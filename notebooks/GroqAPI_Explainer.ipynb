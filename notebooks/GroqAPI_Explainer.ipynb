{
 "cells": [
  {
   "cell_type": "code",
   "execution_count": 1,
   "metadata": {},
   "outputs": [
    {
     "name": "stdout",
     "output_type": "stream",
     "text": [
      "Collecting groq\n",
      "  Downloading groq-0.9.0-py3-none-any.whl.metadata (13 kB)\n",
      "Requirement already satisfied: anyio<5,>=3.5.0 in /Users/daniele.guido/Projects/c2dh/ai-notebooks-summer-workshop/.venv/lib/python3.12/site-packages (from groq) (4.4.0)\n",
      "Collecting distro<2,>=1.7.0 (from groq)\n",
      "  Downloading distro-1.9.0-py3-none-any.whl.metadata (6.8 kB)\n",
      "Requirement already satisfied: httpx<1,>=0.23.0 in /Users/daniele.guido/Projects/c2dh/ai-notebooks-summer-workshop/.venv/lib/python3.12/site-packages (from groq) (0.27.0)\n",
      "Collecting pydantic<3,>=1.9.0 (from groq)\n",
      "  Downloading pydantic-2.8.2-py3-none-any.whl.metadata (125 kB)\n",
      "\u001b[2K     \u001b[90m━━━━━━━━━━━━━━━━━━━━━━━━━━━━━━━━━━━━━━━\u001b[0m \u001b[32m125.2/125.2 kB\u001b[0m \u001b[31m1.7 MB/s\u001b[0m eta \u001b[36m0:00:00\u001b[0ma \u001b[36m0:00:01\u001b[0m\n",
      "\u001b[?25hRequirement already satisfied: sniffio in /Users/daniele.guido/Projects/c2dh/ai-notebooks-summer-workshop/.venv/lib/python3.12/site-packages (from groq) (1.3.1)\n",
      "Requirement already satisfied: typing-extensions<5,>=4.7 in /Users/daniele.guido/Projects/c2dh/ai-notebooks-summer-workshop/.venv/lib/python3.12/site-packages (from groq) (4.12.2)\n",
      "Requirement already satisfied: idna>=2.8 in /Users/daniele.guido/Projects/c2dh/ai-notebooks-summer-workshop/.venv/lib/python3.12/site-packages (from anyio<5,>=3.5.0->groq) (3.7)\n",
      "Requirement already satisfied: certifi in /Users/daniele.guido/Projects/c2dh/ai-notebooks-summer-workshop/.venv/lib/python3.12/site-packages (from httpx<1,>=0.23.0->groq) (2024.7.4)\n",
      "Requirement already satisfied: httpcore==1.* in /Users/daniele.guido/Projects/c2dh/ai-notebooks-summer-workshop/.venv/lib/python3.12/site-packages (from httpx<1,>=0.23.0->groq) (1.0.5)\n",
      "Requirement already satisfied: h11<0.15,>=0.13 in /Users/daniele.guido/Projects/c2dh/ai-notebooks-summer-workshop/.venv/lib/python3.12/site-packages (from httpcore==1.*->httpx<1,>=0.23.0->groq) (0.14.0)\n",
      "Collecting annotated-types>=0.4.0 (from pydantic<3,>=1.9.0->groq)\n",
      "  Downloading annotated_types-0.7.0-py3-none-any.whl.metadata (15 kB)\n",
      "Collecting pydantic-core==2.20.1 (from pydantic<3,>=1.9.0->groq)\n",
      "  Downloading pydantic_core-2.20.1-cp312-cp312-macosx_10_12_x86_64.whl.metadata (6.6 kB)\n",
      "Downloading groq-0.9.0-py3-none-any.whl (103 kB)\n",
      "\u001b[2K   \u001b[90m━━━━━━━━━━━━━━━━━━━━━━━━━━━━━━━━━━━━━━━━\u001b[0m \u001b[32m103.5/103.5 kB\u001b[0m \u001b[31m1.4 MB/s\u001b[0m eta \u001b[36m0:00:00\u001b[0m00:01\u001b[0m\n",
      "\u001b[?25hDownloading distro-1.9.0-py3-none-any.whl (20 kB)\n",
      "Downloading pydantic-2.8.2-py3-none-any.whl (423 kB)\n",
      "\u001b[2K   \u001b[90m━━━━━━━━━━━━━━━━━━━━━━━━━━━━━━━━━━━━━━━━\u001b[0m \u001b[32m423.9/423.9 kB\u001b[0m \u001b[31m2.5 MB/s\u001b[0m eta \u001b[36m0:00:00\u001b[0m00:01\u001b[0m00:01\u001b[0m\n",
      "\u001b[?25hDownloading pydantic_core-2.20.1-cp312-cp312-macosx_10_12_x86_64.whl (1.8 MB)\n",
      "\u001b[2K   \u001b[90m━━━━━━━━━━━━━━━━━━━━━━━━━━━━━━━━━━━━━━━━\u001b[0m \u001b[32m1.8/1.8 MB\u001b[0m \u001b[31m2.7 MB/s\u001b[0m eta \u001b[36m0:00:00\u001b[0m00:01\u001b[0m00:01\u001b[0m0m\n",
      "\u001b[?25hDownloading annotated_types-0.7.0-py3-none-any.whl (13 kB)\n",
      "Installing collected packages: pydantic-core, distro, annotated-types, pydantic, groq\n",
      "Successfully installed annotated-types-0.7.0 distro-1.9.0 groq-0.9.0 pydantic-2.8.2 pydantic-core-2.20.1\n",
      "\n",
      "\u001b[1m[\u001b[0m\u001b[34;49mnotice\u001b[0m\u001b[1;39;49m]\u001b[0m\u001b[39;49m A new release of pip is available: \u001b[0m\u001b[31;49m24.0\u001b[0m\u001b[39;49m -> \u001b[0m\u001b[32;49m24.1.2\u001b[0m\n",
      "\u001b[1m[\u001b[0m\u001b[34;49mnotice\u001b[0m\u001b[1;39;49m]\u001b[0m\u001b[39;49m To update, run: \u001b[0m\u001b[32;49mpip install --upgrade pip\u001b[0m\n"
     ]
    }
   ],
   "source": [
    "!pip install groq"
   ]
  },
  {
   "cell_type": "code",
   "execution_count": 2,
   "metadata": {},
   "outputs": [
    {
     "data": {
      "text/plain": [
       "True"
      ]
     },
     "execution_count": 2,
     "metadata": {},
     "output_type": "execute_result"
    }
   ],
   "source": [
    "from dotenv import load_dotenv\n",
    "load_dotenv()  # take environment variables from .env."
   ]
  },
  {
   "cell_type": "code",
   "execution_count": 6,
   "metadata": {},
   "outputs": [
    {
     "name": "stdout",
     "output_type": "stream",
     "text": [
      "# HackGT AI Workshop\n",
      "\n",
      "This is a Colaboratory notebook. Notebooks like this are often used in data science and machine learning because they provide a unified environment for code, text, and charts.\n",
      "\n",
      "\n",
      "**If you want to edit or interact with this notebook, use the `playground` button!**\n",
      "\n",
      "\n",
      "---\n",
      "\n",
      "# Topics\n",
      "\n",
      "- Basic Data Manipulation with Pandas\n",
      "- Turning words into vectors\n",
      "- Semantic Search Engines!\n",
      "\n",
      "\n",
      "## Setup\n",
      "\n",
      "Cells can contain code or text. You can run a code by clicking the run button to the left or by pressing shift-enter.\n",
      "\n",
      "Try running the cell below to make sure everything is working (make sure you've entered playground mode)\n"
     ]
    }
   ],
   "source": [
    "import requests \n",
    "raw_ipynb_url = 'https://raw.githubusercontent.com/C2DH/ai-notebooks-summer-workshop/master/examples/AI_Workshop_Semantic_Search.ipynb'\n",
    "ipynb_data = requests.get(raw_ipynb_url).json()\n",
    "\n",
    "context = ''.join(ipynb_data['cells'][0]['source'])\n",
    "print(context)"
   ]
  },
  {
   "cell_type": "code",
   "execution_count": 8,
   "metadata": {},
   "outputs": [
    {
     "name": "stdout",
     "output_type": "stream",
     "text": [
      "Let's break down the code step by step:\n",
      "\n",
      "**Importing the `TruncatedSVD` class from scikit-learn**\n",
      "\n",
      "The first line of code imports the `TruncatedSVD` class from the `sklearn.decomposition` module in the scikit-learn library. `TruncatedSVD` is a variant of Singular Value Decomposition (SVD) that is more efficient and suitable for large datasets. We assign this class to the alias `SVD` for convenience.\n",
      "\n",
      "**Creating an instance of `SVD`**\n",
      "\n",
      "The next line creates an instance of the `SVD` class, passing an argument `10` to its constructor. This argument specifies the number of components (also known as dimensions or features) that the SVD will retain. In this case, we're asking the SVD to retain 10 components.\n",
      "\n",
      "**Fitting the SVD to the data**\n",
      "\n",
      "The final line calls the `fit` method on the `svd` object, passing the `td_count_matrix` as an argument. This method applies the SVD transformation to the input data, which is typically a matrix or a tensor. The SVD transformation computes the eigenvectors and eigenvalues of the input data, and returns a transformed representation of the data.\n",
      "\n",
      "In this specific context, `td_count_matrix` is likely a matrix that contains count data (e.g., word frequencies in a document collection). The SVD transformation helps to reduce the dimensionality of this matrix by retaining the most important features (i.e., eigenvectors) and discarding the less informative ones.\n",
      "\n",
      "By fitting the SVD to the data, we're essentially training the model to learn the most important patterns and structures in the data, which will be represented by the retained components (eigenvectors).\n",
      "\n",
      "**What's happening behind the scenes**\n",
      "\n",
      "Under the hood, the `SVD` class is using a variant of the power iteration method to compute the eigenvectors and eigenvalues of the input matrix. This method approximates the eigenvectors and eigenvalues by iteratively applying the matrix multiplication and singular value decomposition processes.\n",
      "\n",
      "The resulting transformed representation of the data (after fitting the SVD) will capture the patterns and structure in the original data, and can be used for various downstream tasks, such as dimensionality reduction, feature selection, and anomaly detection.\n",
      "\n",
      "I hope this explanation helps! Let me know if you have further questions.\n"
     ]
    }
   ],
   "source": [
    "import os\n",
    "\n",
    "from groq import Groq\n",
    "\n",
    "client = Groq(\n",
    "    api_key=os.environ.get(\"GROQ_API_KEY\"),\n",
    ")\n",
    "source=\"\"\"from sklearn.decomposition import TruncatedSVD as SVD\n",
    "svd = SVD(10)\n",
    "svd.fit(td_count_matrix)\"\"\"\n",
    "chat_completion = client.chat.completions.create(\n",
    "    messages=[\n",
    "        {\n",
    "            \"role\": \"system\",\n",
    "            \"content\": f\"\"\"\n",
    "                Use the following context from an Ipynb notebook to answer requests from the user \n",
    "                to explain one of its cells with Python code for the user: {context}\n",
    "            \"\"\",\n",
    "        },\n",
    "        {\n",
    "            \"role\": \"user\",\n",
    "            \"content\": f\"Explain the following python Code for beginners in Python but expert in methods, adding relevant context: {source}\",\n",
    "        }\n",
    "    ],\n",
    "    model=\"llama3-8b-8192\",\n",
    ")\n",
    "\n",
    "print(chat_completion.choices[0].message.content)"
   ]
  }
 ],
 "metadata": {
  "kernelspec": {
   "display_name": ".venv",
   "language": "python",
   "name": "python3"
  },
  "language_info": {
   "codemirror_mode": {
    "name": "ipython",
    "version": 3
   },
   "file_extension": ".py",
   "mimetype": "text/x-python",
   "name": "python",
   "nbconvert_exporter": "python",
   "pygments_lexer": "ipython3",
   "version": "3.12.4"
  }
 },
 "nbformat": 4,
 "nbformat_minor": 2
}
