{
 "cells": [
  {
   "cell_type": "markdown",
   "metadata": {},
   "source": [
    "# Explain with CodeGemma"
   ]
  },
  {
   "cell_type": "markdown",
   "metadata": {},
   "source": [
    "CodeGemma 2B only works for Code Completion scenario. In our case we need the 7 billion parameter instruction-tuned variant."
   ]
  },
  {
   "cell_type": "code",
   "execution_count": null,
   "metadata": {},
   "outputs": [],
   "source": [
    "!pip install transformers\n",
    "#  Using `low_cpu_mem_usage=True` or a `device_map` requires Accelerate: `pip install accelerate` (I was using T4 on colab)\n",
    "!pip install accelerate"
   ]
  },
  {
   "cell_type": "code",
   "execution_count": 1,
   "metadata": {},
   "outputs": [
    {
     "data": {
      "text/plain": [
       "False"
      ]
     },
     "execution_count": 1,
     "metadata": {},
     "output_type": "execute_result"
    }
   ],
   "source": [
    "from dotenv import load_dotenv\n",
    "load_dotenv()  # take environment variables from .env."
   ]
  },
  {
   "cell_type": "code",
   "execution_count": 2,
   "metadata": {},
   "outputs": [
    {
     "name": "stderr",
     "output_type": "stream",
     "text": [
      "/home/eboros/.conda/envs/myenv/lib/python3.11/site-packages/tqdm/auto.py:21: TqdmWarning: IProgress not found. Please update jupyter and ipywidgets. See https://ipywidgets.readthedocs.io/en/stable/user_install.html\n",
      "  from .autonotebook import tqdm as notebook_tqdm\n",
      "/home/eboros/.local/lib/python3.11/site-packages/transformers/utils/hub.py:127: FutureWarning: Using `TRANSFORMERS_CACHE` is deprecated and will be removed in v5 of Transformers. Use `HF_HOME` instead.\n",
      "  warnings.warn(\n",
      "Downloading shards: 100%|█████████████████████████████████████████████████████████████████████████████████████████████████████████████████████████████████████████████████████████████████████████████████████████| 3/3 [02:50<00:00, 56.92s/it]\n",
      "Loading checkpoint shards: 100%|██████████████████████████████████████████████████████████████████████████████████████████████████████████████████████████████████████████████████████████████████████████████████| 3/3 [00:00<00:00,  6.53it/s]\n"
     ]
    }
   ],
   "source": [
    "from transformers import AutoTokenizer, AutoModelForCausalLM\n",
    "import transformers\n",
    "import torch\n",
    "\n",
    "model_id = \"google/codegemma-7b-it\"\n",
    "model_id = \"codellama/CodeLlama-13b-Instruct-hf\"\n",
    "dtype = torch.bfloat16\n",
    "\n",
    "tokenizer = AutoTokenizer.from_pretrained(model_id)\n",
    "model = AutoModelForCausalLM.from_pretrained(\n",
    "    model_id,\n",
    "    device_map=\"cpu\",\n",
    "    # low_cpu_mem_usage=True,\n",
    "    torch_dtype=dtype,\n",
    ")"
   ]
  },
  {
   "cell_type": "code",
   "execution_count": 3,
   "metadata": {},
   "outputs": [
    {
     "data": {
      "text/plain": [
       "LlamaForCausalLM(\n",
       "  (model): LlamaModel(\n",
       "    (embed_tokens): Embedding(32016, 5120)\n",
       "    (layers): ModuleList(\n",
       "      (0-39): 40 x LlamaDecoderLayer(\n",
       "        (self_attn): LlamaSdpaAttention(\n",
       "          (q_proj): Linear(in_features=5120, out_features=5120, bias=False)\n",
       "          (k_proj): Linear(in_features=5120, out_features=5120, bias=False)\n",
       "          (v_proj): Linear(in_features=5120, out_features=5120, bias=False)\n",
       "          (o_proj): Linear(in_features=5120, out_features=5120, bias=False)\n",
       "          (rotary_emb): LlamaRotaryEmbedding()\n",
       "        )\n",
       "        (mlp): LlamaMLP(\n",
       "          (gate_proj): Linear(in_features=5120, out_features=13824, bias=False)\n",
       "          (up_proj): Linear(in_features=5120, out_features=13824, bias=False)\n",
       "          (down_proj): Linear(in_features=13824, out_features=5120, bias=False)\n",
       "          (act_fn): SiLU()\n",
       "        )\n",
       "        (input_layernorm): LlamaRMSNorm()\n",
       "        (post_attention_layernorm): LlamaRMSNorm()\n",
       "      )\n",
       "    )\n",
       "    (norm): LlamaRMSNorm()\n",
       "  )\n",
       "  (lm_head): Linear(in_features=5120, out_features=32016, bias=False)\n",
       ")"
      ]
     },
     "execution_count": 3,
     "metadata": {},
     "output_type": "execute_result"
    }
   ],
   "source": [
    "model"
   ]
  },
  {
   "cell_type": "code",
   "execution_count": 16,
   "metadata": {},
   "outputs": [],
   "source": [
    "# Define the template function\n",
    "def summarize_code(code: str) -> str:\n",
    "    prompt = f\"\"\"\n",
    "    [INST] <>\n",
    "    You are an expert in Programming. Below is a line of python code that describes a task.\n",
    "    Return only one line of summary that appropriately describes the task that the code is\n",
    "    performing. You must write only summary without any prefix or suffix explanations.\n",
    "    Note: The summary should have minimum 1 words and can have on an average 10 words.\n",
    "    <>\n",
    "    {code} [/INST]\n",
    "    \"\"\"\n",
    "    \n",
    "    # Tokenize the input\n",
    "    inputs = tokenizer(prompt, return_tensors=\"pt\")\n",
    "    \n",
    "    # Generate the summary\n",
    "    outputs = model.generate(**inputs, max_new_tokens=50)\n",
    "    \n",
    "    # Decode the output\n",
    "    summary = tokenizer.decode(outputs[0], skip_special_tokens=True)\n",
    "    summary = summary.split(\"[/INST]\")[-1].strip()\n",
    "    return summary.strip()\n"
   ]
  },
  {
   "cell_type": "code",
   "execution_count": 10,
   "metadata": {},
   "outputs": [
    {
     "name": "stderr",
     "output_type": "stream",
     "text": [
      "Setting `pad_token_id` to `eos_token_id`:2 for open-end generation.\n"
     ]
    },
    {
     "name": "stdout",
     "output_type": "stream",
     "text": [
      "[INST] <>\n",
      "    You are an expert in Programming. Below is a line of python code that describes a task.\n",
      "    Return only one line of summary that appropriately describes the task that the code is\n",
      "    performing. You must write only summary without any prefix or suffix explanations.\n",
      "    Note: The summary should have minimum 1 words and can have on an average 10 words.\n",
      "    <>\n",
      "    import pandas as pd\n",
      "\n",
      "df = pd.read_csv('data.csv')\n",
      "print(df.head()) [/INST]\n",
      "    \n",
      "    Reads data from a CSV file and displays the first few rows.\n"
     ]
    }
   ],
   "source": [
    "\n",
    "# Example code to summarize\n",
    "example_code = \"import pandas as pd\\n\\ndf = pd.read_csv('data.csv')\\nprint(df.head())\"\n",
    "\n",
    "# Get the summary\n",
    "summary = summarize_code(example_code)\n",
    "print(summary)\n"
   ]
  },
  {
   "cell_type": "code",
   "execution_count": 12,
   "metadata": {},
   "outputs": [
    {
     "name": "stdout",
     "output_type": "stream",
     "text": [
      "Cell 0:\n",
      "# Explain with CodeGemma\n",
      "----------------------------------------\n",
      "Cell 1:\n",
      "CodeGemma 2B only works for Code Completion scenario. In our case we need the 7 billion parameter instruction-tuned variant.\n",
      "----------------------------------------\n",
      "Cell 2:\n",
      "!pip install transformers\n",
      "#  Using `low_cpu_mem_usage=True` or a `device_map` requires Accelerate: `pip install accelerate` (I was using T4 on colab)\n",
      "!pip install accelerate\n",
      "----------------------------------------\n",
      "Cell 3:\n",
      "from dotenv import load_dotenv\n",
      "load_dotenv()  # take environment variables from .env.\n",
      "----------------------------------------\n",
      "Cell 4:\n",
      "from transformers import AutoTokenizer, AutoModelForCausalLM\n",
      "import transformers\n",
      "import torch\n",
      "\n",
      "model_id = \"google/codegemma-7b-it\"\n",
      "model_id = \"codellama/CodeLlama-13b-Instruct-hf\"\n",
      "dtype = torch.bfloat16\n",
      "\n",
      "tokenizer = AutoTokenizer.from_pretrained(model_id)\n",
      "model = AutoModelForCausalLM.from_pretrained(\n",
      "    model_id,\n",
      "    device_map=\"cpu\",\n",
      "    # low_cpu_mem_usage=True,\n",
      "    torch_dtype=dtype,\n",
      ")\n",
      "----------------------------------------\n",
      "Cell 5:\n",
      "model\n",
      "----------------------------------------\n",
      "Cell 6:\n",
      "# Define the template function\n",
      "def summarize_code(code: str) -> str:\n",
      "    prompt = f\"\"\"\n",
      "    [INST] <>\n",
      "    You are an expert in Programming. Below is a line of python code that describes a task.\n",
      "    Return only one line of summary that appropriately describes the task that the code is\n",
      "    performing. You must write only summary without any prefix or suffix explanations.\n",
      "    Note: The summary should have minimum 1 words and can have on an average 10 words.\n",
      "    <>\n",
      "    {code} [/INST]\n",
      "    \"\"\"\n",
      "    \n",
      "    # Tokenize the input\n",
      "    inputs = tokenizer(prompt, return_tensors=\"pt\")\n",
      "    \n",
      "    # Generate the summary\n",
      "    outputs = model.generate(**inputs, max_new_tokens=50)\n",
      "    \n",
      "    # Decode the output\n",
      "    summary = tokenizer.decode(outputs[0], skip_special_tokens=True)\n",
      "    return summary.strip()\n",
      "\n",
      "----------------------------------------\n",
      "Cell 7:\n",
      "\n",
      "# Example code to summarize\n",
      "example_code = \"import pandas as pd\\n\\ndf = pd.read_csv('data.csv')\\nprint(df.head())\"\n",
      "\n",
      "# Get the summary\n",
      "summary = summarize_code(example_code)\n",
      "print(summary)\n",
      "\n",
      "----------------------------------------\n",
      "Cell 8:\n",
      "\n",
      "----------------------------------------\n",
      "Cell 9:\n",
      "def bubble_sort_string_list(string_list):\n",
      "    n = len(string_list)\n",
      "    for i in range(n):\n",
      "        for j in range(0, n-i-1):\n",
      "            if string_list[j] > string_list[j+1]:\n",
      "                string_list[j], string_list[j+1] = string_list[j+1], string_list[j]\n",
      "    return string_list\n",
      "\n",
      "# Example usage\n",
      "string_list = [\"banana\", \"apple\", \"cherry\", \"date\"]\n",
      "sorted_list = bubble_sort_string_list(string_list)\n",
      "print(sorted_list)\n",
      "\n",
      "----------------------------------------\n",
      "Cell 10:\n",
      "# Define the cell from which you want to extract the code\n",
      "cell_index = 2  # Change this to the cell number you want to summarize\n",
      "\n",
      "# Get the code from the specified cell\n",
      "import nbformat\n",
      "from nbformat import read\n",
      "\n",
      "# Load the current notebook\n",
      "with open('path_to_your_notebook.ipynb') as f:\n",
      "    nb = read(f, as_version=4)\n",
      "\n",
      "# Extract the code from the specified cell\n",
      "cell_code = nb.cells[cell_index]['source']\n",
      "\n",
      "# Get the summary of the code\n",
      "summary = summarize_code(cell_code)\n",
      "print(summary)\n",
      "\n",
      "----------------------------------------\n",
      "Cell 11:\n",
      "\n",
      "----------------------------------------\n",
      "Cell 12:\n",
      "\n",
      "----------------------------------------\n",
      "Cell 13:\n",
      "\n",
      "----------------------------------------\n",
      "Cell 14:\n",
      "\n",
      "----------------------------------------\n",
      "Cell 15:\n",
      "\n",
      "----------------------------------------\n",
      "Cell 16:\n",
      "\n",
      "----------------------------------------\n"
     ]
    }
   ],
   "source": [
    "import nbformat\n",
    "\n",
    "# Load the notebook\n",
    "notebook_path = 'codegemma.ipynb'\n",
    "with open(notebook_path, 'r') as f:\n",
    "    nb = nbformat.read(f, as_version=4)\n",
    "# List the cells with their indices\n",
    "for i, cell in enumerate(nb.cells):\n",
    "    print(f\"Cell {i}:\")\n",
    "    print(cell['source'])\n",
    "    print(\"-\" * 40)"
   ]
  },
  {
   "cell_type": "code",
   "execution_count": 13,
   "metadata": {},
   "outputs": [
    {
     "name": "stdout",
     "output_type": "stream",
     "text": [
      "['apple', 'banana', 'cherry', 'date']\n"
     ]
    }
   ],
   "source": [
    "def bubble_sort_string_list(string_list):\n",
    "    n = len(string_list)\n",
    "    for i in range(n):\n",
    "        for j in range(0, n-i-1):\n",
    "            if string_list[j] > string_list[j+1]:\n",
    "                string_list[j], string_list[j+1] = string_list[j+1], string_list[j]\n",
    "    return string_list\n",
    "\n",
    "# Example usage\n",
    "string_list = [\"banana\", \"apple\", \"cherry\", \"date\"]\n",
    "sorted_list = bubble_sort_string_list(string_list)\n",
    "print(sorted_list)\n"
   ]
  },
  {
   "cell_type": "code",
   "execution_count": 17,
   "metadata": {},
   "outputs": [
    {
     "name": "stderr",
     "output_type": "stream",
     "text": [
      "Setting `pad_token_id` to `eos_token_id`:2 for open-end generation.\n"
     ]
    },
    {
     "name": "stdout",
     "output_type": "stream",
     "text": [
      "Sorts a list of strings using the bubble sort algorithm.\n"
     ]
    }
   ],
   "source": [
    "# Define the cell from which you want to extract the code\n",
    "cell_index = 9  # Change this to the cell number you want to summarize\n",
    "\n",
    "# Get the code from the specified cell\n",
    "import nbformat\n",
    "from nbformat import read\n",
    "\n",
    "# Load the current notebook\n",
    "with open('codegemma.ipynb') as f:\n",
    "    nb = read(f, as_version=4)\n",
    "\n",
    "# Extract the code from the specified cell\n",
    "cell_code = nb.cells[cell_index]['source']\n",
    "\n",
    "# Get the summary of the code\n",
    "summary = summarize_code(cell_code)\n",
    "print(summary)\n"
   ]
  },
  {
   "cell_type": "code",
   "execution_count": null,
   "metadata": {},
   "outputs": [],
   "source": []
  },
  {
   "cell_type": "code",
   "execution_count": null,
   "metadata": {},
   "outputs": [],
   "source": []
  },
  {
   "cell_type": "code",
   "execution_count": null,
   "metadata": {},
   "outputs": [],
   "source": []
  },
  {
   "cell_type": "code",
   "execution_count": null,
   "metadata": {},
   "outputs": [],
   "source": []
  },
  {
   "cell_type": "code",
   "execution_count": null,
   "metadata": {},
   "outputs": [],
   "source": []
  },
  {
   "cell_type": "code",
   "execution_count": null,
   "metadata": {},
   "outputs": [],
   "source": []
  }
 ],
 "metadata": {
  "kernelspec": {
   "display_name": "Python 3 (ipykernel)",
   "language": "python",
   "name": "python3"
  },
  "language_info": {
   "codemirror_mode": {
    "name": "ipython",
    "version": 3
   },
   "file_extension": ".py",
   "mimetype": "text/x-python",
   "name": "python",
   "nbconvert_exporter": "python",
   "pygments_lexer": "ipython3",
   "version": "3.11.9"
  }
 },
 "nbformat": 4,
 "nbformat_minor": 4
}
