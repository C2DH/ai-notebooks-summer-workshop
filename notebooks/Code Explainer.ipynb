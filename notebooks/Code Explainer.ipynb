{
 "cells": [
  {
   "cell_type": "markdown",
   "id": "1e7b775e-532c-4465-8265-50b4a46cae73",
   "metadata": {},
   "source": [
    "# Code Summarization and Explanation using Transformers\n",
    "\n",
    "In this notebook, we will use the `transformers` library to summarize and explain Python code. We will utilize the `codellama/CodeLlama-13b-Instruct-hf` model for this purpose.\n",
    "\n",
    "## Step-by-Step Instructions\n",
    "\n",
    "### 1. Import the Required Libraries\n",
    "\n",
    "First, we need to import the necessary modules from the `transformers` library and other dependencies.\n"
   ]
  },
  {
   "cell_type": "code",
   "execution_count": null,
   "id": "2cb93661-4fa2-429e-a154-43197e77e549",
   "metadata": {},
   "outputs": [],
   "source": [
    "# !pip install -U jupyter ipywidgets\n",
    "!pip install torch\n",
    "!pip install transformers\n",
    "!pip install accelerate"
   ]
  },
  {
   "cell_type": "code",
   "execution_count": 2,
   "id": "26001afd-2993-4caa-b8ea-7b31b7b75086",
   "metadata": {},
   "outputs": [],
   "source": [
    "from transformers import AutoTokenizer, AutoModelForCausalLM\n",
    "import transformers\n",
    "import torch"
   ]
  },
  {
   "cell_type": "code",
   "execution_count": 3,
   "id": "fcd6cd49",
   "metadata": {},
   "outputs": [],
   "source": [
    "# To ensure that PyTorch was installed correctly, we can verify the installation by running sample PyTorch code. Here we will construct a randomly initialized tensor.\n",
    "# import torch\n",
    "# x = torch.rand(5, 3)\n",
    "# print(x)"
   ]
  },
  {
   "cell_type": "markdown",
   "id": "67371abc-b64f-459f-bd16-0792f8533519",
   "metadata": {},
   "source": [
    "### 2. Load the Tokenizer and Model\n",
    "We will load the tokenizer and model using the specified model ID, `codellama/CodeLlama-13b-Instruct-hf`.\n",
    "\n"
   ]
  },
  {
   "cell_type": "code",
   "execution_count": 4,
   "id": "1cfe7231-a2a3-4165-897d-e23528596fac",
   "metadata": {},
   "outputs": [
    {
     "data": {
      "application/vnd.jupyter.widget-view+json": {
       "model_id": "3bdf7f6952d84001a669cfabbc54ed14",
       "version_major": 2,
       "version_minor": 0
      },
      "text/plain": [
       "Loading checkpoint shards:   0%|          | 0/3 [00:00<?, ?it/s]"
      ]
     },
     "metadata": {},
     "output_type": "display_data"
    }
   ],
   "source": [
    "model_id = \"codellama/CodeLlama-13b-Instruct-hf\"\n",
    "dtype = torch.bfloat16\n",
    "\n",
    "tokenizer = AutoTokenizer.from_pretrained(model_id)\n",
    "model = AutoModelForCausalLM.from_pretrained(\n",
    "    model_id,\n",
    "    device_map=\"cpu\",\n",
    "    torch_dtype=dtype,\n",
    ")"
   ]
  },
  {
   "cell_type": "markdown",
   "id": "974ae42a-2ad8-4deb-af56-d5323c8547b9",
   "metadata": {},
   "source": [
    "### 3. Define the Function for Code Explanation\n",
    "We will define a function to summarize and explain Python code. This function will take a code snippet and a prompt, and generate the appropriate explanation."
   ]
  },
  {
   "cell_type": "code",
   "execution_count": 5,
   "id": "3688e038-d943-48c1-838a-c2c5d54a31f6",
   "metadata": {},
   "outputs": [],
   "source": [
    "# Define the template function\n",
    "def summarize_code(max_new_tokens: int, prompt: str) -> str:\n",
    "    # Tokenize the input\n",
    "    print('[summarize_code] Your Prompt:', prompt)\n",
    "    inputs = tokenizer(prompt, return_tensors=\"pt\")\n",
    "    print('[summarize_code] Tokenized Inputs:', inputs)\n",
    "    # Generate the summary\n",
    "    # concerning pad_token_id see https://stackoverflow.com/questions/69609401/suppress-huggingface-logging-warning-setting-pad-token-id-to-eos-token-id\n",
    "    outputs = model.generate(**inputs, max_new_tokens=max_new_tokens, pad_token_id=tokenizer.eos_token_id)\n",
    "    \n",
    "    # Decode the output\n",
    "    summary = tokenizer.decode(outputs[0], skip_special_tokens=True)\n",
    "    summary = summary.split(\"[/INST]\")[-1].strip()\n",
    "    return summary.strip()\n"
   ]
  },
  {
   "cell_type": "markdown",
   "id": "f4b05a40-e5b8-4106-949a-c8304261ae01",
   "metadata": {},
   "source": [
    "### Example Code\n",
    "Let's consider an example Python function for bubble sort. We will use our functions to summarize and explain this code."
   ]
  },
  {
   "cell_type": "code",
   "execution_count": 6,
   "id": "565747b7-0117-463b-b022-7f307751e5db",
   "metadata": {},
   "outputs": [
    {
     "name": "stdout",
     "output_type": "stream",
     "text": [
      "['apple', 'banana', 'cherry', 'date']\n"
     ]
    }
   ],
   "source": [
    "# Code example\n",
    "\n",
    "def bubble_sort_string_list(string_list):\n",
    "    n = len(string_list)\n",
    "    for i in range(n):\n",
    "        for j in range(0, n-i-1):\n",
    "            if string_list[j] > string_list[j+1]:\n",
    "                string_list[j], string_list[j+1] = string_list[j+1], string_list[j]\n",
    "    return string_list\n",
    "\n",
    "# Example usage\n",
    "string_list = [\"banana\", \"apple\", \"cherry\", \"date\"]\n",
    "sorted_list = bubble_sort_string_list(string_list)\n",
    "print(sorted_list)\n"
   ]
  },
  {
   "cell_type": "markdown",
   "id": "f64bd524-f0e7-477e-96b6-318e6a19bf4b",
   "metadata": {},
   "source": [
    "### 5. Extracting Code from Jupyter Notebook\n",
    "We will use a utility function to extract a specific code cell from a Jupyter Notebook and then generate explanations for it.\n",
    "\n"
   ]
  },
  {
   "cell_type": "code",
   "execution_count": 7,
   "id": "8f6ac95d-b3d9-44c9-94cb-0696b7b49963",
   "metadata": {},
   "outputs": [
    {
     "name": "stdout",
     "output_type": "stream",
     "text": [
      "Found the cell:\n",
      "# Code example\n",
      "\n",
      "def bubble_sort_string_list(string_list):\n",
      "    n = len(string_list)\n",
      "    for i in range(n):\n",
      "        for j in range(0, n-i-1):\n",
      "            if string_list[j] > string_list[j+1]:\n",
      "                string_list[j], string_list[j+1] = string_list[j+1], string_list[j]\n",
      "    return string_list\n",
      "\n",
      "# Example usage\n",
      "string_list = [\"banana\", \"apple\", \"cherry\", \"date\"]\n",
      "sorted_list = bubble_sort_string_list(string_list)\n",
      "print(sorted_list)\n",
      "\n"
     ]
    }
   ],
   "source": [
    "from utils import get_cell_with_comment\n",
    "\n",
    "# Define the path to your notebook and the comment to search for\n",
    "notebook_path = 'Code Explainer.ipynb'\n",
    "\n",
    "# Get the cell containing the specific comment\n",
    "cell = get_cell_with_comment(notebook_path)\n",
    "\n",
    "if cell:\n",
    "    print(\"Found the cell:\")\n",
    "    print(cell['source'])\n",
    "else:\n",
    "    print(\"No cell found with the specified comment.\")"
   ]
  },
  {
   "cell_type": "markdown",
   "id": "58d49697-dd13-4844-8a5e-4f674636174d",
   "metadata": {},
   "source": [
    "### Examples"
   ]
  },
  {
   "cell_type": "code",
   "execution_count": 8,
   "id": "7d836a20-b960-48fb-a1a2-db2ca3ca1b52",
   "metadata": {},
   "outputs": [
    {
     "name": "stdout",
     "output_type": "stream",
     "text": [
      "Generating explanation of code in cell {'cell_type': 'code', 'execution_count': None, 'id': '565747b7-0117-463b-b022-7f307751e5db', 'metadata': {}, 'outputs': [{'name': 'stdout', 'output_type': 'stream', 'text': \"['apple', 'banana', 'cherry', 'date']\\n\"}], 'source': '# Code example\\n\\ndef bubble_sort_string_list(string_list):\\n    n = len(string_list)\\n    for i in range(n):\\n        for j in range(0, n-i-1):\\n            if string_list[j] > string_list[j+1]:\\n                string_list[j], string_list[j+1] = string_list[j+1], string_list[j]\\n    return string_list\\n\\n# Example usage\\nstring_list = [\"banana\", \"apple\", \"cherry\", \"date\"]\\nsorted_list = bubble_sort_string_list(string_list)\\nprint(sorted_list)\\n'}.\n",
      "[summarize_code] Your Prompt: \n",
      "[INST] <>\n",
      "You are an expert in Python Programming. Below is a line of python code that describes a task.\n",
      "Return only one line of summary that appropriately describes the task that the code is\n",
      "performing. You must write only summary without any prefix or suffix explanations.\n",
      "Note: The summary should have minimum 1 words and can have on an average 25 words.\n",
      "<>\n",
      "# Code example\n",
      "\n",
      "def bubble_sort_string_list(string_list):\n",
      "    n = len(string_list)\n",
      "    for i in range(n):\n",
      "        for j in range(0, n-i-1):\n",
      "            if string_list[j] > string_list[j+1]:\n",
      "                string_list[j], string_list[j+1] = string_list[j+1], string_list[j]\n",
      "    return string_list\n",
      "\n",
      "# Example usage\n",
      "string_list = [\"banana\", \"apple\", \"cherry\", \"date\"]\n",
      "sorted_list = bubble_sort_string_list(string_list)\n",
      "print(sorted_list)\n",
      " [/INST]\n",
      "\n",
      "[summarize_code] Tokenized Inputs: {'input_ids': tensor([[    1, 29871,    13, 29961, 25580, 29962, 15271,    13,  3492,   526,\n",
      "           385, 17924,   297,  5132,  7835,  4056, 29889, 13866,   338,   263,\n",
      "          1196,   310,  3017,   775,   393, 16612,   263,  3414, 29889,    13,\n",
      "         11609,   871,   697,  1196,   310, 15837,   393,  7128,  2486, 16612,\n",
      "           278,  3414,   393,   278,   775,   338,    13, 19826,   292, 29889,\n",
      "           887,  1818,  2436,   871, 15837,  1728,   738, 10944,   470, 25557,\n",
      "          7309,   800, 29889,    13,  9842, 29901,   450, 15837,   881,   505,\n",
      "          9212, 29871, 29896,  3838,   322,   508,   505,   373,   385,  6588,\n",
      "         29871, 29906, 29945,  3838, 29889,    13, 25299,    13, 29937,  5920,\n",
      "          1342,    13,    13,  1753,   289, 23232, 29918,  6605, 29918,  1807,\n",
      "         29918,  1761, 29898,  1807, 29918,  1761,  1125,    13,  1678,   302,\n",
      "           353,  7431, 29898,  1807, 29918,  1761, 29897,    13,  1678,   363,\n",
      "           474,   297,  3464, 29898, 29876,  1125,    13,  4706,   363,   432,\n",
      "           297,  3464, 29898, 29900, 29892,   302, 29899, 29875, 29899, 29896,\n",
      "          1125,    13,  9651,   565,  1347, 29918,  1761, 29961, 29926, 29962,\n",
      "          1405,  1347, 29918,  1761, 29961, 29926, 29974, 29896,  5387,    13,\n",
      "         18884,  1347, 29918,  1761, 29961, 29926,  1402,  1347, 29918,  1761,\n",
      "         29961, 29926, 29974, 29896, 29962,   353,  1347, 29918,  1761, 29961,\n",
      "         29926, 29974, 29896,  1402,  1347, 29918,  1761, 29961, 29926, 29962,\n",
      "            13,  1678,   736,  1347, 29918,  1761,    13,    13, 29937,  8741,\n",
      "          8744,    13,  1807, 29918,  1761,   353,  6796,  2571,  1648,   613,\n",
      "           376, 11548,   613,   376,  4630,   719,   613,   376,  1256,  3108,\n",
      "            13, 24582, 29918,  1761,   353,   289, 23232, 29918,  6605, 29918,\n",
      "          1807, 29918,  1761, 29898,  1807, 29918,  1761, 29897,    13,  2158,\n",
      "         29898, 24582, 29918,  1761, 29897,    13,   518, 29914, 25580, 29962,\n",
      "            13]]), 'attention_mask': tensor([[1, 1, 1, 1, 1, 1, 1, 1, 1, 1, 1, 1, 1, 1, 1, 1, 1, 1, 1, 1, 1, 1, 1, 1,\n",
      "         1, 1, 1, 1, 1, 1, 1, 1, 1, 1, 1, 1, 1, 1, 1, 1, 1, 1, 1, 1, 1, 1, 1, 1,\n",
      "         1, 1, 1, 1, 1, 1, 1, 1, 1, 1, 1, 1, 1, 1, 1, 1, 1, 1, 1, 1, 1, 1, 1, 1,\n",
      "         1, 1, 1, 1, 1, 1, 1, 1, 1, 1, 1, 1, 1, 1, 1, 1, 1, 1, 1, 1, 1, 1, 1, 1,\n",
      "         1, 1, 1, 1, 1, 1, 1, 1, 1, 1, 1, 1, 1, 1, 1, 1, 1, 1, 1, 1, 1, 1, 1, 1,\n",
      "         1, 1, 1, 1, 1, 1, 1, 1, 1, 1, 1, 1, 1, 1, 1, 1, 1, 1, 1, 1, 1, 1, 1, 1,\n",
      "         1, 1, 1, 1, 1, 1, 1, 1, 1, 1, 1, 1, 1, 1, 1, 1, 1, 1, 1, 1, 1, 1, 1, 1,\n",
      "         1, 1, 1, 1, 1, 1, 1, 1, 1, 1, 1, 1, 1, 1, 1, 1, 1, 1, 1, 1, 1, 1, 1, 1,\n",
      "         1, 1, 1, 1, 1, 1, 1, 1, 1, 1, 1, 1, 1, 1, 1, 1, 1, 1, 1, 1, 1, 1, 1, 1,\n",
      "         1, 1, 1, 1, 1, 1, 1, 1, 1, 1, 1, 1, 1, 1, 1, 1, 1, 1, 1, 1, 1, 1, 1, 1,\n",
      "         1, 1, 1, 1, 1, 1, 1, 1, 1, 1, 1]])}\n"
     ]
    }
   ],
   "source": [
    "prompt = f\"\"\"\n",
    "[INST] <>\n",
    "You are an expert in Python Programming. Below is a line of python code that describes a task.\n",
    "Return only one line of summary that appropriately describes the task that the code is\n",
    "performing. You must write only summary without any prefix or suffix explanations.\n",
    "Note: The summary should have minimum 1 words and can have on an average 25 words.\n",
    "<>\n",
    "{cell['source']} [/INST]\n",
    "\"\"\"\n",
    "    \n",
    "print(f'Generating explanation of code in cell {cell}.')\n",
    "# Get the summary of the code\n",
    "summary = summarize_code(max_new_tokens=256, prompt=prompt)\n",
    "\n",
    "print('-'*50)\n",
    "print(summary)\n"
   ]
  },
  {
   "cell_type": "markdown",
   "id": "3c31a7a4-2212-4382-9bf1-1e1792ea12b8",
   "metadata": {},
   "source": [
    "Other examples of prompts.\n"
   ]
  },
  {
   "cell_type": "code",
   "execution_count": null,
   "id": "bf1b02a0-b295-4310-8af1-551a2e30385c",
   "metadata": {},
   "outputs": [],
   "source": [
    "prompt = f\"\"\"\n",
    "[INST] <>\n",
    "You are an expert in Python programming. Below is a Python code that describes a task. \n",
    "Explain the code step by step with details about the implementation.\n",
    "<>\n",
    "{cell['source']} [/INST]\n",
    "\"\"\"\n",
    "    \n",
    "print(f'Generating explanation of code in cell {cell}.')\n",
    "# Get the summary of the code\n",
    "summary = summarize_code(max_new_tokens=256, prompt=prompt)\n",
    "\n",
    "print('-'*50)\n",
    "print(summary)"
   ]
  },
  {
   "cell_type": "code",
   "execution_count": null,
   "id": "e7640a29-57b4-48bd-a8cd-46b2a0df89a8",
   "metadata": {},
   "outputs": [],
   "source": [
    "prompt = f\"\"\"\n",
    "[INST] <>\n",
    "You are an expert in Python programming. Below is a Python code that describes a task. \n",
    "Explain the code step by step with details about the implementation in a friendly and chatty way!\n",
    "<>\n",
    "{cell['source']} [/INST]\n",
    "\"\"\"\n",
    "    \n",
    "print(f'Generating explanation of code in cell {cell}.')\n",
    "# Get the summary of the code\n",
    "summary = summarize_code(max_new_tokens=256, prompt=prompt)\n",
    "\n",
    "print('-'*50)\n",
    "print(summary)"
   ]
  }
 ],
 "metadata": {
  "kernelspec": {
   "display_name": "Python 3 (ipykernel)",
   "language": "python",
   "name": "python3"
  },
  "language_info": {
   "codemirror_mode": {
    "name": "ipython",
    "version": 3
   },
   "file_extension": ".py",
   "mimetype": "text/x-python",
   "name": "python",
   "nbconvert_exporter": "python",
   "pygments_lexer": "ipython3",
   "version": "3.12.4"
  }
 },
 "nbformat": 4,
 "nbformat_minor": 5
}
