{
 "cells": [
  {
   "cell_type": "code",
   "execution_count": 9,
   "id": "206f28ae-b824-4b7d-99a5-c4bc77e54938",
   "metadata": {},
   "outputs": [],
   "source": []
  },
  {
   "cell_type": "markdown",
   "id": "1e7b775e-532c-4465-8265-50b4a46cae73",
   "metadata": {},
   "source": [
    "# Code Summarization and Explanation using Transformers\n",
    "\n",
    "In this notebook, we will use the `transformers` library to summarize and explain Python code. We will utilize the `codellama/CodeLlama-13b-Instruct-hf` model for this purpose.\n",
    "\n",
    "## Step-by-Step Instructions\n",
    "\n",
    "### 1. Import the Required Libraries\n",
    "\n",
    "First, we need to import the necessary modules from the `transformers` library and other dependencies.\n"
   ]
  },
  {
   "cell_type": "code",
   "execution_count": null,
   "id": "2cb93661-4fa2-429e-a154-43197e77e549",
   "metadata": {},
   "outputs": [],
   "source": [
    "# !pip install -U jupyter ipywidgets"
   ]
  },
  {
   "cell_type": "code",
   "execution_count": 1,
   "id": "26001afd-2993-4caa-b8ea-7b31b7b75086",
   "metadata": {},
   "outputs": [
    {
     "name": "stderr",
     "output_type": "stream",
     "text": [
      "/home/eboros/.conda/envs/myenv/lib/python3.11/site-packages/tqdm/auto.py:21: TqdmWarning: IProgress not found. Please update jupyter and ipywidgets. See https://ipywidgets.readthedocs.io/en/stable/user_install.html\n",
      "  from .autonotebook import tqdm as notebook_tqdm\n",
      "/home/eboros/.local/lib/python3.11/site-packages/transformers/utils/hub.py:127: FutureWarning: Using `TRANSFORMERS_CACHE` is deprecated and will be removed in v5 of Transformers. Use `HF_HOME` instead.\n",
      "  warnings.warn(\n"
     ]
    }
   ],
   "source": [
    "from transformers import AutoTokenizer, AutoModelForCausalLM\n",
    "import transformers\n",
    "import torch\n"
   ]
  },
  {
   "cell_type": "markdown",
   "id": "67371abc-b64f-459f-bd16-0792f8533519",
   "metadata": {},
   "source": [
    "### 2. Load the Tokenizer and Model\n",
    "We will load the tokenizer and model using the specified model ID, `codellama/CodeLlama-13b-Instruct-hf`.\n",
    "\n"
   ]
  },
  {
   "cell_type": "code",
   "execution_count": 2,
   "id": "1cfe7231-a2a3-4165-897d-e23528596fac",
   "metadata": {},
   "outputs": [
    {
     "name": "stderr",
     "output_type": "stream",
     "text": [
      "/home/eboros/.local/lib/python3.11/site-packages/transformers/utils/hub.py:127: FutureWarning: Using `TRANSFORMERS_CACHE` is deprecated and will be removed in v5 of Transformers. Use `HF_HOME` instead.\n",
      "  warnings.warn(\n"
     ]
    },
    {
     "data": {
      "application/vnd.jupyter.widget-view+json": {
       "model_id": "26be96157f764e29bb45907ac5da3cdd",
       "version_major": 2,
       "version_minor": 0
      },
      "text/plain": [
       "Downloading shards:   0%|          | 0/3 [00:00<?, ?it/s]"
      ]
     },
     "metadata": {},
     "output_type": "display_data"
    },
    {
     "data": {
      "application/vnd.jupyter.widget-view+json": {
       "model_id": "90011a4a51e34fb19ce58e2cfbc4cc79",
       "version_major": 2,
       "version_minor": 0
      },
      "text/plain": [
       "Loading checkpoint shards:   0%|          | 0/3 [00:00<?, ?it/s]"
      ]
     },
     "metadata": {},
     "output_type": "display_data"
    }
   ],
   "source": [
    "model_id = \"codellama/CodeLlama-13b-Instruct-hf\"\n",
    "dtype = torch.bfloat16\n",
    "\n",
    "tokenizer = AutoTokenizer.from_pretrained(model_id)\n",
    "model = AutoModelForCausalLM.from_pretrained(\n",
    "    model_id,\n",
    "    device_map=\"cpu\",\n",
    "    torch_dtype=dtype,\n",
    ")"
   ]
  },
  {
   "cell_type": "markdown",
   "id": "974ae42a-2ad8-4deb-af56-d5323c8547b9",
   "metadata": {},
   "source": [
    "### 3. Define the Function for Code Explanation\n",
    "We will define a function to summarize and explain Python code. This function will take a code snippet and a prompt, and generate the appropriate explanation."
   ]
  },
  {
   "cell_type": "code",
   "execution_count": 2,
   "id": "3688e038-d943-48c1-838a-c2c5d54a31f6",
   "metadata": {},
   "outputs": [],
   "source": [
    "# Define the template function\n",
    "def summarize_code(code: str, max_new_tokens: int, prompt: str) -> str:\n",
    "    # Tokenize the input\n",
    "    inputs = tokenizer(prompt, return_tensors=\"pt\")\n",
    "    \n",
    "    # Generate the summary\n",
    "    outputs = model.generate(**inputs, max_new_tokens=max_new_tokens)\n",
    "    \n",
    "    # Decode the output\n",
    "    summary = tokenizer.decode(outputs[0], skip_special_tokens=True)\n",
    "    summary = summary.split(\"[/INST]\")[-1].strip()\n",
    "    return summary.strip()\n"
   ]
  },
  {
   "cell_type": "markdown",
   "id": "f4b05a40-e5b8-4106-949a-c8304261ae01",
   "metadata": {},
   "source": [
    "### Example Code\n",
    "Let's consider an example Python function for bubble sort. We will use our functions to summarize and explain this code."
   ]
  },
  {
   "cell_type": "code",
   "execution_count": 3,
   "id": "565747b7-0117-463b-b022-7f307751e5db",
   "metadata": {},
   "outputs": [
    {
     "name": "stdout",
     "output_type": "stream",
     "text": [
      "['apple', 'banana', 'cherry', 'date']\n"
     ]
    }
   ],
   "source": [
    "# Code example\n",
    "\n",
    "def bubble_sort_string_list(string_list):\n",
    "    n = len(string_list)\n",
    "    for i in range(n):\n",
    "        for j in range(0, n-i-1):\n",
    "            if string_list[j] > string_list[j+1]:\n",
    "                string_list[j], string_list[j+1] = string_list[j+1], string_list[j]\n",
    "    return string_list\n",
    "\n",
    "# Example usage\n",
    "string_list = [\"banana\", \"apple\", \"cherry\", \"date\"]\n",
    "sorted_list = bubble_sort_string_list(string_list)\n",
    "print(sorted_list)\n"
   ]
  },
  {
   "cell_type": "markdown",
   "id": "f64bd524-f0e7-477e-96b6-318e6a19bf4b",
   "metadata": {},
   "source": [
    "### 5. Extracting Code from Jupyter Notebook\n",
    "We will use a utility function to extract a specific code cell from a Jupyter Notebook and then generate explanations for it.\n",
    "\n"
   ]
  },
  {
   "cell_type": "code",
   "execution_count": 4,
   "id": "8f6ac95d-b3d9-44c9-94cb-0696b7b49963",
   "metadata": {},
   "outputs": [
    {
     "name": "stdout",
     "output_type": "stream",
     "text": [
      "Found the cell:\n",
      "# Code example\n",
      "\n",
      "def bubble_sort_string_list(string_list):\n",
      "    n = len(string_list)\n",
      "    for i in range(n):\n",
      "        for j in range(0, n-i-1):\n",
      "            if string_list[j] > string_list[j+1]:\n",
      "                string_list[j], string_list[j+1] = string_list[j+1], string_list[j]\n",
      "    return string_list\n",
      "\n",
      "# Example usage\n",
      "string_list = [\"banana\", \"apple\", \"cherry\", \"date\"]\n",
      "sorted_list = bubble_sort_string_list(string_list)\n",
      "print(sorted_list)\n",
      "\n"
     ]
    }
   ],
   "source": [
    "from utils import get_cell_with_comment\n",
    "\n",
    "# Define the path to your notebook and the comment to search for\n",
    "notebook_path = 'Code Explainer.ipynb'\n",
    "\n",
    "# Get the cell containing the specific comment\n",
    "cell = get_cell_with_comment(notebook_path)\n",
    "\n",
    "if cell:\n",
    "    print(\"Found the cell:\")\n",
    "    print(cell['source'])\n",
    "else:\n",
    "    print(\"No cell found with the specified comment.\")"
   ]
  },
  {
   "cell_type": "markdown",
   "id": "58d49697-dd13-4844-8a5e-4f674636174d",
   "metadata": {},
   "source": [
    "### Examples"
   ]
  },
  {
   "cell_type": "code",
   "execution_count": 7,
   "id": "7d836a20-b960-48fb-a1a2-db2ca3ca1b52",
   "metadata": {},
   "outputs": [
    {
     "name": "stdout",
     "output_type": "stream",
     "text": [
      "Generating explanation of code in cell {'cell_type': 'code', 'execution_count': 19, 'id': '565747b7-0117-463b-b022-7f307751e5db', 'metadata': {}, 'outputs': [{'name': 'stdout', 'output_type': 'stream', 'text': \"['apple', 'banana', 'cherry', 'date']\\n\"}], 'source': '# Code example\\n\\ndef bubble_sort_string_list(string_list):\\n    n = len(string_list)\\n    for i in range(n):\\n        for j in range(0, n-i-1):\\n            if string_list[j] > string_list[j+1]:\\n                string_list[j], string_list[j+1] = string_list[j+1], string_list[j]\\n    return string_list\\n\\n# Example usage\\nstring_list = [\"banana\", \"apple\", \"cherry\", \"date\"]\\nsorted_list = bubble_sort_string_list(string_list)\\nprint(sorted_list)\\n'}.\n"
     ]
    },
    {
     "ename": "NameError",
     "evalue": "name 'tokenizer' is not defined",
     "output_type": "error",
     "traceback": [
      "\u001b[0;31m---------------------------------------------------------------------------\u001b[0m",
      "\u001b[0;31mNameError\u001b[0m                                 Traceback (most recent call last)",
      "Cell \u001b[0;32mIn[7], line 13\u001b[0m\n\u001b[1;32m     11\u001b[0m \u001b[38;5;28mprint\u001b[39m(\u001b[38;5;124mf\u001b[39m\u001b[38;5;124m'\u001b[39m\u001b[38;5;124mGenerating explanation of code in cell \u001b[39m\u001b[38;5;132;01m{\u001b[39;00mcell\u001b[38;5;132;01m}\u001b[39;00m\u001b[38;5;124m.\u001b[39m\u001b[38;5;124m'\u001b[39m)\n\u001b[1;32m     12\u001b[0m \u001b[38;5;66;03m# Get the summary of the code\u001b[39;00m\n\u001b[0;32m---> 13\u001b[0m summary \u001b[38;5;241m=\u001b[39m \u001b[43msummarize_code\u001b[49m\u001b[43m(\u001b[49m\u001b[43mcode\u001b[49m\u001b[38;5;241;43m=\u001b[39;49m\u001b[43mcell\u001b[49m\u001b[43m[\u001b[49m\u001b[38;5;124;43m'\u001b[39;49m\u001b[38;5;124;43msource\u001b[39;49m\u001b[38;5;124;43m'\u001b[39;49m\u001b[43m]\u001b[49m\u001b[43m,\u001b[49m\u001b[43m \u001b[49m\u001b[43mmax_new_tokens\u001b[49m\u001b[38;5;241;43m=\u001b[39;49m\u001b[38;5;241;43m256\u001b[39;49m\u001b[43m,\u001b[49m\u001b[43m \u001b[49m\u001b[43mprompt\u001b[49m\u001b[38;5;241;43m=\u001b[39;49m\u001b[43mprompt\u001b[49m\u001b[43m)\u001b[49m\n\u001b[1;32m     15\u001b[0m \u001b[38;5;28mprint\u001b[39m(\u001b[38;5;124m'\u001b[39m\u001b[38;5;124m-\u001b[39m\u001b[38;5;124m'\u001b[39m\u001b[38;5;241m*\u001b[39m\u001b[38;5;241m50\u001b[39m)\n\u001b[1;32m     16\u001b[0m \u001b[38;5;28mprint\u001b[39m(summary)\n",
      "Cell \u001b[0;32mIn[2], line 4\u001b[0m, in \u001b[0;36msummarize_code\u001b[0;34m(code, max_new_tokens, prompt)\u001b[0m\n\u001b[1;32m      2\u001b[0m \u001b[38;5;28;01mdef\u001b[39;00m \u001b[38;5;21msummarize_code\u001b[39m(code: \u001b[38;5;28mstr\u001b[39m, max_new_tokens: \u001b[38;5;28mint\u001b[39m, prompt: \u001b[38;5;28mstr\u001b[39m) \u001b[38;5;241m-\u001b[39m\u001b[38;5;241m>\u001b[39m \u001b[38;5;28mstr\u001b[39m:\n\u001b[1;32m      3\u001b[0m     \u001b[38;5;66;03m# Tokenize the input\u001b[39;00m\n\u001b[0;32m----> 4\u001b[0m     inputs \u001b[38;5;241m=\u001b[39m \u001b[43mtokenizer\u001b[49m(prompt, return_tensors\u001b[38;5;241m=\u001b[39m\u001b[38;5;124m\"\u001b[39m\u001b[38;5;124mpt\u001b[39m\u001b[38;5;124m\"\u001b[39m)\n\u001b[1;32m      6\u001b[0m     \u001b[38;5;66;03m# Generate the summary\u001b[39;00m\n\u001b[1;32m      7\u001b[0m     outputs \u001b[38;5;241m=\u001b[39m model\u001b[38;5;241m.\u001b[39mgenerate(\u001b[38;5;241m*\u001b[39m\u001b[38;5;241m*\u001b[39minputs, max_new_tokens\u001b[38;5;241m=\u001b[39mmax_new_tokens)\n",
      "\u001b[0;31mNameError\u001b[0m: name 'tokenizer' is not defined"
     ]
    }
   ],
   "source": [
    "prompt = f\"\"\"\n",
    "[INST] <>\n",
    "You are an expert in Python Programming. Below is a line of python code that describes a task.\n",
    "Return only one line of summary that appropriately describes the task that the code is\n",
    "performing. You must write only summary without any prefix or suffix explanations.\n",
    "Note: The summary should have minimum 1 words and can have on an average 25 words.\n",
    "<>\n",
    "{cell['source']} [/INST]\n",
    "\"\"\"\n",
    "    \n",
    "print(f'Generating explanation of code in cell {cell}.')\n",
    "# Get the summary of the code\n",
    "summary = summarize_code(code=cell['source'], max_new_tokens=256, prompt=prompt)\n",
    "\n",
    "print('-'*50)\n",
    "print(summary)\n"
   ]
  },
  {
   "cell_type": "markdown",
   "id": "3c31a7a4-2212-4382-9bf1-1e1792ea12b8",
   "metadata": {},
   "source": [
    "Other examples of prompts.\n"
   ]
  },
  {
   "cell_type": "code",
   "execution_count": null,
   "id": "bf1b02a0-b295-4310-8af1-551a2e30385c",
   "metadata": {},
   "outputs": [],
   "source": [
    "prompt = f\"\"\"\n",
    "[INST] <>\n",
    "You are an expert in Python programming. Below is a Python code that describes a task. \n",
    "Explain the code step by step with details about the implementation.\n",
    "<>\n",
    "{cell['source']} [/INST]\n",
    "\"\"\"\n",
    "    \n",
    "print(f'Generating explanation of code in cell {cell}.')\n",
    "# Get the summary of the code\n",
    "summary = summarize_code(code=cell['source'], max_new_tokens=256, prompt=prompt)\n",
    "\n",
    "print('-'*50)\n",
    "print(summary)"
   ]
  },
  {
   "cell_type": "code",
   "execution_count": null,
   "id": "e7640a29-57b4-48bd-a8cd-46b2a0df89a8",
   "metadata": {},
   "outputs": [],
   "source": [
    "prompt = f\"\"\"\n",
    "[INST] <>\n",
    "You are an expert in Python programming. Below is a Python code that describes a task. \n",
    "Explain the code step by step with details about the implementation in a friendly and chatty way!\n",
    "<>\n",
    "{cell['source']} [/INST]\n",
    "\"\"\"\n",
    "    \n",
    "print(f'Generating explanation of code in cell {cell}.')\n",
    "# Get the summary of the code\n",
    "summary = summarize_code(code=cell['source'], max_new_tokens=256, prompt=prompt)\n",
    "\n",
    "print('-'*50)\n",
    "print(summary)"
   ]
  },
  {
   "cell_type": "code",
   "execution_count": null,
   "id": "1c32294d-8607-478b-a9f2-6dd79110fb8a",
   "metadata": {},
   "outputs": [],
   "source": []
  },
  {
   "cell_type": "code",
   "execution_count": null,
   "id": "33e055cf-5eec-478c-985b-d9d554558d61",
   "metadata": {},
   "outputs": [],
   "source": []
  },
  {
   "cell_type": "code",
   "execution_count": null,
   "id": "f3bbcd23-8367-4c64-a2bd-2ea3ac6a66c7",
   "metadata": {},
   "outputs": [],
   "source": []
  }
 ],
 "metadata": {
  "kernelspec": {
   "display_name": "Python 3 (ipykernel)",
   "language": "python",
   "name": "python3"
  },
  "language_info": {
   "codemirror_mode": {
    "name": "ipython",
    "version": 3
   },
   "file_extension": ".py",
   "mimetype": "text/x-python",
   "name": "python",
   "nbconvert_exporter": "python",
   "pygments_lexer": "ipython3",
   "version": "3.11.9"
  }
 },
 "nbformat": 4,
 "nbformat_minor": 5
}
