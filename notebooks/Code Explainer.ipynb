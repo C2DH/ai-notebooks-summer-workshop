{
 "cells": [
  {
   "cell_type": "code",
   "execution_count": 9,
   "id": "206f28ae-b824-4b7d-99a5-c4bc77e54938",
   "metadata": {},
   "outputs": [],
   "source": [
    "# !pip install -U jupyter ipywidgets"
   ]
  },
  {
   "cell_type": "code",
   "execution_count": 2,
   "id": "1cfe7231-a2a3-4165-897d-e23528596fac",
   "metadata": {},
   "outputs": [
    {
     "name": "stderr",
     "output_type": "stream",
     "text": [
      "/home/eboros/.local/lib/python3.11/site-packages/transformers/utils/hub.py:127: FutureWarning: Using `TRANSFORMERS_CACHE` is deprecated and will be removed in v5 of Transformers. Use `HF_HOME` instead.\n",
      "  warnings.warn(\n"
     ]
    },
    {
     "data": {
      "application/vnd.jupyter.widget-view+json": {
       "model_id": "26be96157f764e29bb45907ac5da3cdd",
       "version_major": 2,
       "version_minor": 0
      },
      "text/plain": [
       "Downloading shards:   0%|          | 0/3 [00:00<?, ?it/s]"
      ]
     },
     "metadata": {},
     "output_type": "display_data"
    },
    {
     "data": {
      "application/vnd.jupyter.widget-view+json": {
       "model_id": "90011a4a51e34fb19ce58e2cfbc4cc79",
       "version_major": 2,
       "version_minor": 0
      },
      "text/plain": [
       "Loading checkpoint shards:   0%|          | 0/3 [00:00<?, ?it/s]"
      ]
     },
     "metadata": {},
     "output_type": "display_data"
    }
   ],
   "source": [
    "from transformers import AutoTokenizer, AutoModelForCausalLM\n",
    "import transformers\n",
    "import torch\n",
    "\n",
    "model_id = \"google/codegemma-7b-it\"\n",
    "model_id = \"codellama/CodeLlama-13b-Instruct-hf\"\n",
    "dtype = torch.bfloat16\n",
    "\n",
    "tokenizer = AutoTokenizer.from_pretrained(model_id)\n",
    "model = AutoModelForCausalLM.from_pretrained(\n",
    "    model_id,\n",
    "    device_map=\"cpu\",\n",
    "    # low_cpu_mem_usage=True,\n",
    "    torch_dtype=dtype,\n",
    ")"
   ]
  },
  {
   "cell_type": "code",
   "execution_count": 14,
   "id": "3688e038-d943-48c1-838a-c2c5d54a31f6",
   "metadata": {},
   "outputs": [],
   "source": [
    "# Define the template function\n",
    "def summarize_code(code: str, max_new_tokens: int) -> str:\n",
    "    prompt = f\"\"\"\n",
    "    [INST] <>\n",
    "    You are an expert in Python Programming. Below is a line of python code that describes a task.\n",
    "    Return only one line of summary that appropriately describes the task that the code is\n",
    "    performing. You must write only summary without any prefix or suffix explanations.\n",
    "    Note: The summary should have minimum 1 words and can have on an average 25 words.\n",
    "    <>\n",
    "    {code} [/INST]\n",
    "    \"\"\"\n",
    "    \n",
    "    # Tokenize the input\n",
    "    inputs = tokenizer(prompt, return_tensors=\"pt\")\n",
    "    \n",
    "    # Generate the summary\n",
    "    outputs = model.generate(**inputs, max_new_tokens=max_new_tokens)\n",
    "    \n",
    "    # Decode the output\n",
    "    summary = tokenizer.decode(outputs[0], skip_special_tokens=True)\n",
    "    summary = summary.split(\"[/INST]\")[-1].strip()\n",
    "    return summary.strip()\n"
   ]
  },
  {
   "cell_type": "code",
   "execution_count": 15,
   "id": "a70cbb91-1c39-4237-a246-932f3c246df1",
   "metadata": {},
   "outputs": [],
   "source": [
    "# Define the template function\n",
    "def summarize_code(code: str, max_new_tokens: int) -> str:\n",
    "    prompt = f\"\"\"\n",
    "    [INST] <>\n",
    "    You are an expert in Python programming. Below is a Python code that describes a task. \n",
    "    Explain the code step by step with details about the implementation.\n",
    "    <>\n",
    "    {code} [/INST]\n",
    "    \"\"\"\n",
    "    \n",
    "    # Tokenize the input\n",
    "    inputs = tokenizer(prompt, return_tensors=\"pt\")\n",
    "    \n",
    "    # Generate the summary\n",
    "    outputs = model.generate(**inputs, max_new_tokens=max_new_tokens)\n",
    "    \n",
    "    # Decode the output\n",
    "    summary = tokenizer.decode(outputs[0], skip_special_tokens=True)\n",
    "    summary = summary.split(\"[/INST]\")[-1].strip()\n",
    "    return summary.strip()"
   ]
  },
  {
   "cell_type": "code",
   "execution_count": 4,
   "id": "25174a0e-ee8c-4b37-83d5-829f46209e8d",
   "metadata": {},
   "outputs": [
    {
     "name": "stderr",
     "output_type": "stream",
     "text": [
      "Setting `pad_token_id` to `eos_token_id`:2 for open-end generation.\n"
     ]
    },
    {
     "name": "stdout",
     "output_type": "stream",
     "text": [
      "Reads data from a CSV file and displays the first few rows.\n"
     ]
    }
   ],
   "source": [
    "\n",
    "# Example code to summarize\n",
    "example_code = \"import pandas as pd\\n\\ndf = pd.read_csv('data.csv')\\nprint(df.head())\"\n",
    "\n",
    "# Get the summary\n",
    "summary = summarize_code(example_code)\n",
    "print(summary)\n"
   ]
  },
  {
   "cell_type": "code",
   "execution_count": null,
   "id": "fe530426-fe22-4743-a05c-e1eb430098e5",
   "metadata": {},
   "outputs": [],
   "source": []
  },
  {
   "cell_type": "code",
   "execution_count": 11,
   "id": "565747b7-0117-463b-b022-7f307751e5db",
   "metadata": {},
   "outputs": [
    {
     "name": "stdout",
     "output_type": "stream",
     "text": [
      "['apple', 'banana', 'cherry', 'date']\n"
     ]
    }
   ],
   "source": [
    "# Code example\n",
    "\n",
    "def bubble_sort_string_list(string_list):\n",
    "    n = len(string_list)\n",
    "    for i in range(n):\n",
    "        for j in range(0, n-i-1):\n",
    "            if string_list[j] > string_list[j+1]:\n",
    "                string_list[j], string_list[j+1] = string_list[j+1], string_list[j]\n",
    "    return string_list\n",
    "\n",
    "# Example usage\n",
    "string_list = [\"banana\", \"apple\", \"cherry\", \"date\"]\n",
    "sorted_list = bubble_sort_string_list(string_list)\n",
    "print(sorted_list)\n"
   ]
  },
  {
   "cell_type": "code",
   "execution_count": 12,
   "id": "8f6ac95d-b3d9-44c9-94cb-0696b7b49963",
   "metadata": {},
   "outputs": [
    {
     "data": {
      "text/plain": [
       "{'cell_type': 'code',\n",
       " 'execution_count': 5,\n",
       " 'id': '565747b7-0117-463b-b022-7f307751e5db',\n",
       " 'metadata': {},\n",
       " 'outputs': [{'name': 'stdout',\n",
       "   'output_type': 'stream',\n",
       "   'text': \"['apple', 'banana', 'cherry', 'date']\\n\"}],\n",
       " 'source': '# Code example\\n\\ndef bubble_sort_string_list(string_list):\\n    n = len(string_list)\\n    for i in range(n):\\n        for j in range(0, n-i-1):\\n            if string_list[j] > string_list[j+1]:\\n                string_list[j], string_list[j+1] = string_list[j+1], string_list[j]\\n    return string_list\\n\\n# Example usage\\nstring_list = [\"banana\", \"apple\", \"cherry\", \"date\"]\\nsorted_list = bubble_sort_string_list(string_list)\\nprint(sorted_list)\\n'}"
      ]
     },
     "execution_count": 12,
     "metadata": {},
     "output_type": "execute_result"
    }
   ],
   "source": [
    "from utils import get_cell_with_comment\n",
    "\n",
    "# Define the path to your notebook and the comment to search for\n",
    "notebook_path = 'Code Explainer.ipynb'\n",
    "\n",
    "# Get the cell containing the specific comment\n",
    "cell = get_cell_with_comment(notebook_path)\n",
    "\n",
    "cell"
   ]
  },
  {
   "cell_type": "code",
   "execution_count": 16,
   "id": "7d836a20-b960-48fb-a1a2-db2ca3ca1b52",
   "metadata": {},
   "outputs": [
    {
     "name": "stderr",
     "output_type": "stream",
     "text": [
      "Setting `pad_token_id` to `eos_token_id`:2 for open-end generation.\n"
     ]
    },
    {
     "name": "stdout",
     "output_type": "stream",
     "text": [
      "Found the cell:\n",
      "# Code example\n",
      "\n",
      "def bubble_sort_string_list(string_list):\n",
      "    n = len(string_list)\n",
      "    for i in range(n):\n",
      "        for j in range(0, n-i-1):\n",
      "            if string_list[j] > string_list[j+1]:\n",
      "                string_list[j], string_list[j+1] = string_list[j+1], string_list[j]\n",
      "    return string_list\n",
      "\n",
      "# Example usage\n",
      "string_list = [\"banana\", \"apple\", \"cherry\", \"date\"]\n",
      "sorted_list = bubble_sort_string_list(string_list)\n",
      "print(sorted_list)\n",
      "\n",
      "Generating explanation of code in cell {'cell_type': 'code', 'execution_count': 5, 'id': '565747b7-0117-463b-b022-7f307751e5db', 'metadata': {}, 'outputs': [{'name': 'stdout', 'output_type': 'stream', 'text': \"['apple', 'banana', 'cherry', 'date']\\n\"}], 'source': '# Code example\\n\\ndef bubble_sort_string_list(string_list):\\n    n = len(string_list)\\n    for i in range(n):\\n        for j in range(0, n-i-1):\\n            if string_list[j] > string_list[j+1]:\\n                string_list[j], string_list[j+1] = string_list[j+1], string_list[j]\\n    return string_list\\n\\n# Example usage\\nstring_list = [\"banana\", \"apple\", \"cherry\", \"date\"]\\nsorted_list = bubble_sort_string_list(string_list)\\nprint(sorted_list)\\n'}.\n",
      "--------------------------------------------------\n",
      "The code you provided is an implementation of the bubble sort algorithm in Python. The algorithm is used to sort a list of strings in ascending order.\n",
      "\n",
      "Here's a step-by-step explanation of the code:\n",
      "\n",
      "1. The function `bubble_sort_string_list` takes a list of strings as input and returns a sorted list of strings.\n",
      "2. The first line of the function, `n = len(string_list)`, calculates the length of the input list and stores it in a variable `n`.\n",
      "3. The next line, `for i in range(n):`, starts a loop that will iterate `n` times. This loop is used to iterate over the list of strings and perform the bubble sort.\n",
      "4. The inner loop, `for j in range(0, n-i-1):`, starts a loop that will iterate `n-i-1` times. This loop is used to compare adjacent elements in the list and swap them if they are in the wrong order.\n",
      "5. The condition `if string_list[j] > string_list[j+1]:` checks if the element at index `j` is greater than the element\n"
     ]
    }
   ],
   "source": [
    "if cell:\n",
    "    print(\"Found the cell:\")\n",
    "    print(cell['source'])\n",
    "else:\n",
    "    print(\"No cell found with the specified comment.\")\n",
    "\n",
    "print(f'Generating explanation of code in cell {cell}.')\n",
    "# Get the summary of the code\n",
    "summary = summarize_code(cell['source'], max_new_tokens=256)\n",
    "\n",
    "print('-'*50)\n",
    "print(summary)\n"
   ]
  },
  {
   "cell_type": "code",
   "execution_count": null,
   "id": "bf1b02a0-b295-4310-8af1-551a2e30385c",
   "metadata": {},
   "outputs": [],
   "source": []
  },
  {
   "cell_type": "code",
   "execution_count": null,
   "id": "e7640a29-57b4-48bd-a8cd-46b2a0df89a8",
   "metadata": {},
   "outputs": [],
   "source": []
  },
  {
   "cell_type": "code",
   "execution_count": null,
   "id": "1c32294d-8607-478b-a9f2-6dd79110fb8a",
   "metadata": {},
   "outputs": [],
   "source": []
  },
  {
   "cell_type": "code",
   "execution_count": null,
   "id": "33e055cf-5eec-478c-985b-d9d554558d61",
   "metadata": {},
   "outputs": [],
   "source": []
  },
  {
   "cell_type": "code",
   "execution_count": null,
   "id": "f3bbcd23-8367-4c64-a2bd-2ea3ac6a66c7",
   "metadata": {},
   "outputs": [],
   "source": []
  }
 ],
 "metadata": {
  "kernelspec": {
   "display_name": "Python 3 (ipykernel)",
   "language": "python",
   "name": "python3"
  },
  "language_info": {
   "codemirror_mode": {
    "name": "ipython",
    "version": 3
   },
   "file_extension": ".py",
   "mimetype": "text/x-python",
   "name": "python",
   "nbconvert_exporter": "python",
   "pygments_lexer": "ipython3",
   "version": "3.11.9"
  }
 },
 "nbformat": 4,
 "nbformat_minor": 5
}
