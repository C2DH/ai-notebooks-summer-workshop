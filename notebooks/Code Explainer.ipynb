{
 "cells": [
  {
   "cell_type": "markdown",
   "id": "1e7b775e-532c-4465-8265-50b4a46cae73",
   "metadata": {},
   "source": [
    "# Code Explanation using Transformers\n",
    "\n",
    "In this notebook, we will use the `transformers` library to summarize and explain Python code. We will utilize the `codellama/CodeLlama-13b-Instruct-hf` model for this purpose.\n",
    "\n",
    "## Step-by-Step Instructions\n",
    "\n",
    "### 1. Import the Required Libraries\n",
    "\n",
    "First, we need to import the necessary modules from the `transformers` library and other dependencies.\n"
   ]
  },
  {
   "cell_type": "code",
   "execution_count": null,
   "id": "2cb93661-4fa2-429e-a154-43197e77e549",
   "metadata": {},
   "outputs": [],
   "source": [
    "# !pip install -U jupyter ipywidgets"
   ]
  },
  {
   "cell_type": "code",
   "execution_count": 2,
   "id": "26001afd-2993-4caa-b8ea-7b31b7b75086",
   "metadata": {},
   "outputs": [],
   "source": [
    "from transformers import AutoTokenizer, AutoModelForCausalLM\n",
    "import transformers\n",
    "import torch\n"
   ]
  },
  {
   "cell_type": "markdown",
   "id": "67371abc-b64f-459f-bd16-0792f8533519",
   "metadata": {},
   "source": [
    "### 2. Load the Tokenizer and Model\n",
    "We will load the tokenizer and model using the specified model ID, `codellama/CodeLlama-13b-Instruct-hf`.\n",
    "\n"
   ]
  },
  {
   "cell_type": "code",
   "execution_count": 5,
   "id": "1cfe7231-a2a3-4165-897d-e23528596fac",
   "metadata": {},
   "outputs": [
    {
     "data": {
      "application/vnd.jupyter.widget-view+json": {
       "model_id": "987681ce1f9f4f8a97b7574c4ac1b461",
       "version_major": 2,
       "version_minor": 0
      },
      "text/plain": [
       "tokenizer_config.json:   0%|          | 0.00/749 [00:00<?, ?B/s]"
      ]
     },
     "metadata": {},
     "output_type": "display_data"
    },
    {
     "data": {
      "application/vnd.jupyter.widget-view+json": {
       "model_id": "126429fa10a2455aaec91c5072c2fafc",
       "version_major": 2,
       "version_minor": 0
      },
      "text/plain": [
       "tokenizer.model:   0%|          | 0.00/500k [00:00<?, ?B/s]"
      ]
     },
     "metadata": {},
     "output_type": "display_data"
    },
    {
     "data": {
      "application/vnd.jupyter.widget-view+json": {
       "model_id": "e37b6ef0816143de9d136b67c7e6d136",
       "version_major": 2,
       "version_minor": 0
      },
      "text/plain": [
       "tokenizer.json:   0%|          | 0.00/1.84M [00:00<?, ?B/s]"
      ]
     },
     "metadata": {},
     "output_type": "display_data"
    },
    {
     "data": {
      "application/vnd.jupyter.widget-view+json": {
       "model_id": "8fc2f7b68ec04285bada27dd6f6de136",
       "version_major": 2,
       "version_minor": 0
      },
      "text/plain": [
       "special_tokens_map.json:   0%|          | 0.00/411 [00:00<?, ?B/s]"
      ]
     },
     "metadata": {},
     "output_type": "display_data"
    },
    {
     "data": {
      "application/vnd.jupyter.widget-view+json": {
       "model_id": "4c79ddb3149a4a3f819dc03dddf67175",
       "version_major": 2,
       "version_minor": 0
      },
      "text/plain": [
       "config.json:   0%|          | 0.00/637 [00:00<?, ?B/s]"
      ]
     },
     "metadata": {},
     "output_type": "display_data"
    },
    {
     "data": {
      "application/vnd.jupyter.widget-view+json": {
       "model_id": "70f3e89071e24129b9dd33b59b6db444",
       "version_major": 2,
       "version_minor": 0
      },
      "text/plain": [
       "model.safetensors.index.json:   0%|          | 0.00/25.1k [00:00<?, ?B/s]"
      ]
     },
     "metadata": {},
     "output_type": "display_data"
    },
    {
     "data": {
      "application/vnd.jupyter.widget-view+json": {
       "model_id": "3b2008906ebb42c2ac0738cc961921a3",
       "version_major": 2,
       "version_minor": 0
      },
      "text/plain": [
       "Downloading shards:   0%|          | 0/2 [00:00<?, ?it/s]"
      ]
     },
     "metadata": {},
     "output_type": "display_data"
    },
    {
     "data": {
      "application/vnd.jupyter.widget-view+json": {
       "model_id": "a5427d460be144abb7f7a9e1a182ea92",
       "version_major": 2,
       "version_minor": 0
      },
      "text/plain": [
       "model-00001-of-00002.safetensors:   0%|          | 0.00/9.98G [00:00<?, ?B/s]"
      ]
     },
     "metadata": {},
     "output_type": "display_data"
    },
    {
     "data": {
      "application/vnd.jupyter.widget-view+json": {
       "model_id": "087408c9d72348cba4acd5321087fd75",
       "version_major": 2,
       "version_minor": 0
      },
      "text/plain": [
       "model-00002-of-00002.safetensors:   0%|          | 0.00/3.50G [00:00<?, ?B/s]"
      ]
     },
     "metadata": {},
     "output_type": "display_data"
    },
    {
     "data": {
      "application/vnd.jupyter.widget-view+json": {
       "model_id": "162a02c99a6347b29e1fea4371403134",
       "version_major": 2,
       "version_minor": 0
      },
      "text/plain": [
       "Loading checkpoint shards:   0%|          | 0/2 [00:00<?, ?it/s]"
      ]
     },
     "metadata": {},
     "output_type": "display_data"
    },
    {
     "data": {
      "application/vnd.jupyter.widget-view+json": {
       "model_id": "b6649c36a4184898aef1a5eb01e578a2",
       "version_major": 2,
       "version_minor": 0
      },
      "text/plain": [
       "generation_config.json:   0%|          | 0.00/116 [00:00<?, ?B/s]"
      ]
     },
     "metadata": {},
     "output_type": "display_data"
    }
   ],
   "source": [
    "# model_id = \"codellama/CodeLlama-13b-Instruct-hf\"\n",
    "\n",
    "# Let's take a smaller one :)\n",
    "# model_id = \"meta-llama/CodeLlama-7b-hf\"\n",
    "model_id = \"codellama/CodeLlama-7b-hf\"\n",
    "\n",
    "dtype = torch.bfloat16\n",
    "\n",
    "tokenizer = AutoTokenizer.from_pretrained(model_id)\n",
    "model = AutoModelForCausalLM.from_pretrained(\n",
    "    model_id,\n",
    "    device_map=\"cpu\",\n",
    "    torch_dtype=dtype,\n",
    ")"
   ]
  },
  {
   "cell_type": "markdown",
   "id": "974ae42a-2ad8-4deb-af56-d5323c8547b9",
   "metadata": {},
   "source": [
    "### 3. Define the Function for Code Explanation\n",
    "We will define a function to summarize and explain Python code. This function will take a code snippet and a prompt, and generate the appropriate explanation."
   ]
  },
  {
   "cell_type": "code",
   "execution_count": 6,
   "id": "3688e038-d943-48c1-838a-c2c5d54a31f6",
   "metadata": {},
   "outputs": [],
   "source": [
    "# Define the template function\n",
    "def summarize_code(code: str, max_new_tokens: int, prompt: str) -> str:\n",
    "    # Tokenize the input\n",
    "    inputs = tokenizer(prompt, return_tensors=\"pt\")\n",
    "    \n",
    "    # Generate the summary\n",
    "    outputs = model.generate(**inputs, max_new_tokens=max_new_tokens)\n",
    "    \n",
    "    # Decode the output\n",
    "    summary = tokenizer.decode(outputs[0], skip_special_tokens=True)\n",
    "    summary = summary.split(\"[/INST]\")[-1].strip()\n",
    "    return summary.strip()\n"
   ]
  },
  {
   "cell_type": "markdown",
   "id": "f4b05a40-e5b8-4106-949a-c8304261ae01",
   "metadata": {},
   "source": [
    "### Example Code\n",
    "Let's consider an example Python function for bubble sort. We will use our functions to summarize and explain this code."
   ]
  },
  {
   "cell_type": "code",
   "execution_count": 7,
   "id": "565747b7-0117-463b-b022-7f307751e5db",
   "metadata": {},
   "outputs": [
    {
     "name": "stdout",
     "output_type": "stream",
     "text": [
      "['apple', 'banana', 'cherry', 'date']\n"
     ]
    }
   ],
   "source": [
    "# Code example\n",
    "\n",
    "def bubble_sort_string_list(string_list):\n",
    "    n = len(string_list)\n",
    "    for i in range(n):\n",
    "        for j in range(0, n-i-1):\n",
    "            if string_list[j] > string_list[j+1]:\n",
    "                string_list[j], string_list[j+1] = string_list[j+1], string_list[j]\n",
    "    return string_list\n",
    "\n",
    "# Example usage\n",
    "string_list = [\"banana\", \"apple\", \"cherry\", \"date\"]\n",
    "sorted_list = bubble_sort_string_list(string_list)\n",
    "print(sorted_list)\n"
   ]
  },
  {
   "cell_type": "markdown",
   "id": "f64bd524-f0e7-477e-96b6-318e6a19bf4b",
   "metadata": {},
   "source": [
    "### 4. Extracting Code from Jupyter Notebook\n",
    "We will use a utility function to extract a specific code cell from a Jupyter Notebook and then generate explanations for it.\n",
    "\n"
   ]
  },
  {
   "cell_type": "code",
   "execution_count": 8,
   "id": "8f6ac95d-b3d9-44c9-94cb-0696b7b49963",
   "metadata": {},
   "outputs": [
    {
     "name": "stdout",
     "output_type": "stream",
     "text": [
      "Found the cell:\n",
      "# Code example\n",
      "\n",
      "def bubble_sort_string_list(string_list):\n",
      "    n = len(string_list)\n",
      "    for i in range(n):\n",
      "        for j in range(0, n-i-1):\n",
      "            if string_list[j] > string_list[j+1]:\n",
      "                string_list[j], string_list[j+1] = string_list[j+1], string_list[j]\n",
      "    return string_list\n",
      "\n",
      "# Example usage\n",
      "string_list = [\"banana\", \"apple\", \"cherry\", \"date\"]\n",
      "sorted_list = bubble_sort_string_list(string_list)\n",
      "print(sorted_list)\n",
      "\n"
     ]
    }
   ],
   "source": [
    "from utils import get_cell_with_comment\n",
    "\n",
    "# Define the path to your notebook and the comment to search for\n",
    "notebook_path = 'Code Explainer.ipynb'\n",
    "\n",
    "# Get the cell containing the specific comment\n",
    "cell = get_cell_with_comment(notebook_path)\n",
    "\n",
    "if cell:\n",
    "    print(\"Found the cell:\")\n",
    "    print(cell['source'])\n",
    "else:\n",
    "    print(\"No cell found with the specified comment.\")"
   ]
  },
  {
   "cell_type": "markdown",
   "id": "58d49697-dd13-4844-8a5e-4f674636174d",
   "metadata": {},
   "source": [
    "### Examples"
   ]
  },
  {
   "cell_type": "code",
   "execution_count": null,
   "id": "7d836a20-b960-48fb-a1a2-db2ca3ca1b52",
   "metadata": {},
   "outputs": [
    {
     "name": "stderr",
     "output_type": "stream",
     "text": [
      "Setting `pad_token_id` to `eos_token_id`:2 for open-end generation.\n"
     ]
    },
    {
     "name": "stdout",
     "output_type": "stream",
     "text": [
      "Generating explanation of code in cell {'cell_type': 'code', 'execution_count': 3, 'id': '565747b7-0117-463b-b022-7f307751e5db', 'metadata': {}, 'outputs': [{'name': 'stdout', 'output_type': 'stream', 'text': \"['apple', 'banana', 'cherry', 'date']\\n\"}], 'source': '# Code example\\n\\ndef bubble_sort_string_list(string_list):\\n    n = len(string_list)\\n    for i in range(n):\\n        for j in range(0, n-i-1):\\n            if string_list[j] > string_list[j+1]:\\n                string_list[j], string_list[j+1] = string_list[j+1], string_list[j]\\n    return string_list\\n\\n# Example usage\\nstring_list = [\"banana\", \"apple\", \"cherry\", \"date\"]\\nsorted_list = bubble_sort_string_list(string_list)\\nprint(sorted_list)\\n'}.\n"
     ]
    }
   ],
   "source": [
    "prompt = f\"\"\"\n",
    "[INST] <>\n",
    "You are an expert in Python Programming. Below is a line of python code that describes a task.\n",
    "Return only one line of summary that appropriately describes the task that the code is\n",
    "performing. You must write only summary without any prefix or suffix explanations.\n",
    "Note: The summary should have minimum 1 words and can have on an average 25 words.\n",
    "<>\n",
    "{cell['source']} [/INST]\n",
    "\"\"\"\n",
    "    \n",
    "print(f'Generating explanation of code in cell {cell}.')\n",
    "# Get the summary of the code\n",
    "summary = summarize_code(code=cell['source'], max_new_tokens=256, prompt=prompt)\n",
    "\n",
    "print('-'*50)\n",
    "print(summary)\n"
   ]
  },
  {
   "cell_type": "markdown",
   "id": "3c31a7a4-2212-4382-9bf1-1e1792ea12b8",
   "metadata": {},
   "source": [
    "Other examples of prompts.\n"
   ]
  },
  {
   "cell_type": "code",
   "execution_count": null,
   "id": "bf1b02a0-b295-4310-8af1-551a2e30385c",
   "metadata": {},
   "outputs": [],
   "source": [
    "prompt = f\"\"\"\n",
    "[INST] <>\n",
    "You are an expert in Python programming. Below is a Python code that describes a task. \n",
    "Explain the code step by step with details about the implementation.\n",
    "<>\n",
    "{cell['source']} [/INST]\n",
    "\"\"\"\n",
    "    \n",
    "print(f'Generating explanation of code in cell {cell}.')\n",
    "# Get the summary of the code\n",
    "summary = summarize_code(code=cell['source'], max_new_tokens=256, prompt=prompt)\n",
    "\n",
    "print('-'*50)\n",
    "print(summary)"
   ]
  },
  {
   "cell_type": "code",
   "execution_count": null,
   "id": "e7640a29-57b4-48bd-a8cd-46b2a0df89a8",
   "metadata": {},
   "outputs": [],
   "source": [
    "prompt = f\"\"\"\n",
    "[INST] <>\n",
    "You are an expert in Python programming. Below is a Python code that describes a task. \n",
    "Explain the code step by step with details about the implementation in a friendly and chatty way!\n",
    "<>\n",
    "{cell['source']} [/INST]\n",
    "\"\"\"\n",
    "    \n",
    "print(f'Generating explanation of code in cell {cell}.')\n",
    "# Get the summary of the code\n",
    "summary = summarize_code(code=cell['source'], max_new_tokens=256, prompt=prompt)\n",
    "\n",
    "print('-'*50)\n",
    "print(summary)"
   ]
  },
  {
   "cell_type": "code",
   "execution_count": null,
   "id": "1c32294d-8607-478b-a9f2-6dd79110fb8a",
   "metadata": {},
   "outputs": [],
   "source": []
  },
  {
   "cell_type": "code",
   "execution_count": null,
   "id": "33e055cf-5eec-478c-985b-d9d554558d61",
   "metadata": {},
   "outputs": [],
   "source": []
  },
  {
   "cell_type": "code",
   "execution_count": null,
   "id": "f3bbcd23-8367-4c64-a2bd-2ea3ac6a66c7",
   "metadata": {},
   "outputs": [],
   "source": []
  }
 ],
 "metadata": {
  "kernelspec": {
   "display_name": "Python 3 (ipykernel)",
   "language": "python",
   "name": "python3"
  },
  "language_info": {
   "codemirror_mode": {
    "name": "ipython",
    "version": 3
   },
   "file_extension": ".py",
   "mimetype": "text/x-python",
   "name": "python",
   "nbconvert_exporter": "python",
   "pygments_lexer": "ipython3",
   "version": "3.9.6"
  }
 },
 "nbformat": 4,
 "nbformat_minor": 5
}
