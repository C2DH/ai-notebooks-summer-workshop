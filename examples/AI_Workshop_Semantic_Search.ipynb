{
  "nbformat": 4,
  "nbformat_minor": 0,
  "metadata": {
    "colab": {
      "provenance": []
    },
    "kernelspec": {
      "display_name": "Python 3",
      "language": "python",
      "name": "python3"
    }
  },
  "cells": [
    {
      "metadata": {
        "id": "gNSeWzblBaab"
      },
      "cell_type": "markdown",
      "source": [
        "# HackGT AI Workshop\n",
        "\n",
        "This is a Colaboratory notebook. Notebooks like this are often used in data science and machine learning because they provide a unified environment for code, text, and charts.\n",
        "\n",
        "\n",
        "**If you want to edit or interact with this notebook, use the `playground` button!**\n",
        "\n",
        "\n",
        "---\n",
        "\n",
        "# Topics\n",
        "\n",
        "- Basic Data Manipulation with Pandas\n",
        "- Turning words into vectors\n",
        "- Semantic Search Engines!\n",
        "\n",
        "\n",
        "## Setup\n",
        "\n",
        "Cells can contain code or text. You can run a code by clicking the run button to the left or by pressing shift-enter.\n",
        "\n",
        "Try running the cell below to make sure everything is working (make sure you've entered playground mode)"
      ]
    },
    {
      "metadata": {
        "id": "Wj9ff_27P--X",
        "outputId": "05c78aed-be53-46b3-865f-f215c84bec0f",
        "colab": {
          "base_uri": "https://localhost:8080/",
          "height": 34
        }
      },
      "cell_type": "code",
      "source": [
        "print(\"Hello talk!!\")"
      ],
      "execution_count": null,
      "outputs": [
        {
          "output_type": "stream",
          "text": [
            "Hello talk!!\n"
          ],
          "name": "stdout"
        }
      ]
    },
    {
      "metadata": {
        "id": "mI17SVcqBEqi"
      },
      "cell_type": "markdown",
      "source": [
        "Colaboratory has a lot of useful libraries installed automatically. Below are some standard imports that you'll see in nearly every single ML project."
      ]
    },
    {
      "metadata": {
        "id": "0cfafGo0PZoc"
      },
      "cell_type": "code",
      "source": [
        "import numpy as np\n",
        "import pandas as pd\n",
        "import matplotlib.pyplot as plt"
      ],
      "execution_count": null,
      "outputs": []
    },
    {
      "metadata": {
        "id": "ZkiB3gvlCqQf"
      },
      "cell_type": "markdown",
      "source": [
        "## 1.0: Pandas!\n",
        "![](https://upload.wikimedia.org/wikipedia/commons/thumb/0/0f/Grosser_Panda.JPG/218px-Grosser_Panda.JPG)\n",
        "  \n",
        "\n",
        "---\n",
        "\n",
        "\n",
        "\n",
        "\n",
        "- `pandas` is a staple library for machine learning and data science\n",
        "- Think of it as a **very** fast csv wrapper\n",
        "  - sql style operations\n",
        "  - charts\n",
        "  - makes life easier by replacing lots of for loops\n",
        "\n",
        "\n",
        "The main abstraction is a `DataFrame`, often as a variable called `df`.  \n",
        "  \n",
        "  When I say dataframe, think table.\n",
        "  \n",
        "  Most of the operations are pretty self explanatory.\n",
        "  \n",
        "  Below, we'll read a CSV file that I've prepared containing submissions from HackGT last year.\n",
        "  "
      ]
    },
    {
      "metadata": {
        "id": "P0EL70hSQ9q7"
      },
      "cell_type": "code",
      "source": [
        "# this can also be a local (to the cloud instance) file!\n",
        "location = 'https://gist.githubusercontent.com/ruyimarone/04d356038138f12df205da9934e797f1/raw/e3bb9212eae46e10f85b765f5a3ab95e0428c3ee/data.csv'\n",
        "df = pd.read_csv(location)\n",
        "# this drops any rows that have NaN values or other missing entries - we won't worry about them\n",
        "df = df.dropna()\n",
        "#this drops anything that is too short\n",
        "df = df[df.description.str.len() > 100]"
      ],
      "execution_count": null,
      "outputs": []
    },
    {
      "metadata": {
        "id": "OghJx6usELH5"
      },
      "cell_type": "markdown",
      "source": [
        "We can check the contents of a `DataFrame` by inspecting the first few rows:"
      ]
    },
    {
      "metadata": {
        "id": "SspRKudMFJr2",
        "outputId": "c94ded08-776c-4ed1-bbb8-5f04d0f2b1b4",
        "colab": {
          "base_uri": "https://localhost:8080/",
          "height": 206
        }
      },
      "cell_type": "code",
      "source": [
        "df.head()"
      ],
      "execution_count": null,
      "outputs": [
        {
          "output_type": "execute_result",
          "data": {
            "text/html": [
              "<div>\n",
              "<style scoped>\n",
              "    .dataframe tbody tr th:only-of-type {\n",
              "        vertical-align: middle;\n",
              "    }\n",
              "\n",
              "    .dataframe tbody tr th {\n",
              "        vertical-align: top;\n",
              "    }\n",
              "\n",
              "    .dataframe thead th {\n",
              "        text-align: right;\n",
              "    }\n",
              "</style>\n",
              "<table border=\"1\" class=\"dataframe\">\n",
              "  <thead>\n",
              "    <tr style=\"text-align: right;\">\n",
              "      <th></th>\n",
              "      <th>submission</th>\n",
              "      <th>description</th>\n",
              "      <th>tags</th>\n",
              "    </tr>\n",
              "  </thead>\n",
              "  <tbody>\n",
              "    <tr>\n",
              "      <th>0</th>\n",
              "      <td>Cinema4All</td>\n",
              "      <td>Inspiration\\n\\nWhen exploring different proble...</td>\n",
              "      <td>azure, react, heroku, css, javascript</td>\n",
              "    </tr>\n",
              "    <tr>\n",
              "      <th>1</th>\n",
              "      <td>helpr</td>\n",
              "      <td>Inspiration\\n\\nWhen considering the types of u...</td>\n",
              "      <td>love, caffeine, android-studio, arduino, iot, ...</td>\n",
              "    </tr>\n",
              "    <tr>\n",
              "      <th>2</th>\n",
              "      <td>Book Match: Vocabing</td>\n",
              "      <td>Inspiration\\n\\nGRE Test Prep\\n\\nWhat it does\\n...</td>\n",
              "      <td>python, mysql, azure, nltk, natural-language-p...</td>\n",
              "    </tr>\n",
              "    <tr>\n",
              "      <th>3</th>\n",
              "      <td>Parking sensor</td>\n",
              "      <td>Inspiration\\n\\nOne day, while driving, Sarah b...</td>\n",
              "      <td>arduino, pwm</td>\n",
              "    </tr>\n",
              "    <tr>\n",
              "      <th>4</th>\n",
              "      <td>HackGTOne</td>\n",
              "      <td>Inspiration\\n\\nWe wanted to improve the custom...</td>\n",
              "      <td>java, android</td>\n",
              "    </tr>\n",
              "  </tbody>\n",
              "</table>\n",
              "</div>"
            ],
            "text/plain": [
              "             submission                                        description  \\\n",
              "0            Cinema4All  Inspiration\\n\\nWhen exploring different proble...   \n",
              "1                 helpr  Inspiration\\n\\nWhen considering the types of u...   \n",
              "2  Book Match: Vocabing  Inspiration\\n\\nGRE Test Prep\\n\\nWhat it does\\n...   \n",
              "3        Parking sensor  Inspiration\\n\\nOne day, while driving, Sarah b...   \n",
              "4             HackGTOne  Inspiration\\n\\nWe wanted to improve the custom...   \n",
              "\n",
              "                                                tags  \n",
              "0              azure, react, heroku, css, javascript  \n",
              "1  love, caffeine, android-studio, arduino, iot, ...  \n",
              "2  python, mysql, azure, nltk, natural-language-p...  \n",
              "3                                       arduino, pwm  \n",
              "4                                      java, android  "
            ]
          },
          "metadata": {
            "tags": []
          },
          "execution_count": 39
        }
      ]
    },
    {
      "metadata": {
        "id": "JZlwibTtsn9q"
      },
      "cell_type": "markdown",
      "source": [
        "We can also do advanced selections. For example, if we wanted every project that was tagged on devpost with python:"
      ]
    },
    {
      "metadata": {
        "id": "iAXpDw57sm40",
        "outputId": "7391048e-caf4-41a1-f69e-e74b75284959",
        "colab": {
          "base_uri": "https://localhost:8080/",
          "height": 143
        }
      },
      "cell_type": "code",
      "source": [
        "df[df.tags.str.contains('python') & df.tags.str.contains('pandas')].head()"
      ],
      "execution_count": null,
      "outputs": [
        {
          "output_type": "execute_result",
          "data": {
            "text/html": [
              "<div>\n",
              "<style scoped>\n",
              "    .dataframe tbody tr th:only-of-type {\n",
              "        vertical-align: middle;\n",
              "    }\n",
              "\n",
              "    .dataframe tbody tr th {\n",
              "        vertical-align: top;\n",
              "    }\n",
              "\n",
              "    .dataframe thead th {\n",
              "        text-align: right;\n",
              "    }\n",
              "</style>\n",
              "<table border=\"1\" class=\"dataframe\">\n",
              "  <thead>\n",
              "    <tr style=\"text-align: right;\">\n",
              "      <th></th>\n",
              "      <th>submission</th>\n",
              "      <th>description</th>\n",
              "      <th>tags</th>\n",
              "    </tr>\n",
              "  </thead>\n",
              "  <tbody>\n",
              "    <tr>\n",
              "      <th>7</th>\n",
              "      <td>Airline Delays Visualization</td>\n",
              "      <td>Inspiration\\n\\nI love airplanes and big data i...</td>\n",
              "      <td>pandas, numpy, python, jupyter-notebook</td>\n",
              "    </tr>\n",
              "    <tr>\n",
              "      <th>92</th>\n",
              "      <td>Huber</td>\n",
              "      <td>Huber\\n\\nHuber is new. It's different. All you...</td>\n",
              "      <td>typescript, jupyter-notebook, python, javascri...</td>\n",
              "    </tr>\n",
              "    <tr>\n",
              "      <th>135</th>\n",
              "      <td>InvestFolio</td>\n",
              "      <td>Inspiration\\n\\nEasy to use. Free. \\n\\nWhat it ...</td>\n",
              "      <td>php, google-cloud, scikit-learn, python, mysql...</td>\n",
              "    </tr>\n",
              "  </tbody>\n",
              "</table>\n",
              "</div>"
            ],
            "text/plain": [
              "                       submission  \\\n",
              "7    Airline Delays Visualization   \n",
              "92                          Huber   \n",
              "135                   InvestFolio   \n",
              "\n",
              "                                           description  \\\n",
              "7    Inspiration\\n\\nI love airplanes and big data i...   \n",
              "92   Huber\\n\\nHuber is new. It's different. All you...   \n",
              "135  Inspiration\\n\\nEasy to use. Free. \\n\\nWhat it ...   \n",
              "\n",
              "                                                  tags  \n",
              "7              pandas, numpy, python, jupyter-notebook  \n",
              "92   typescript, jupyter-notebook, python, javascri...  \n",
              "135  php, google-cloud, scikit-learn, python, mysql...  "
            ]
          },
          "metadata": {
            "tags": []
          },
          "execution_count": 40
        }
      ]
    },
    {
      "metadata": {
        "id": "nSLQrshPvPw8"
      },
      "cell_type": "markdown",
      "source": [
        "Let's compare some libraries and languages:"
      ]
    },
    {
      "metadata": {
        "id": "gykoxVfYvO0y",
        "outputId": "3fc2a725-a435-4e7b-db09-4af27b1dae96",
        "colab": {
          "base_uri": "https://localhost:8080/",
          "height": 34
        }
      },
      "cell_type": "code",
      "source": [
        "df[df['tags'].str.contains('python')].tags.count()"
      ],
      "execution_count": null,
      "outputs": [
        {
          "output_type": "execute_result",
          "data": {
            "text/plain": [
              "66"
            ]
          },
          "metadata": {
            "tags": []
          },
          "execution_count": 41
        }
      ]
    },
    {
      "metadata": {
        "id": "e8pVKr2dw6ir",
        "outputId": "74cfca87-e0f8-45af-fa59-dd43695ad5bc",
        "colab": {
          "base_uri": "https://localhost:8080/",
          "height": 34
        }
      },
      "cell_type": "code",
      "source": [
        "df[df['tags'].str.contains('node.js')].tags.count()"
      ],
      "execution_count": null,
      "outputs": [
        {
          "output_type": "execute_result",
          "data": {
            "text/plain": [
              "30"
            ]
          },
          "metadata": {
            "tags": []
          },
          "execution_count": 42
        }
      ]
    },
    {
      "metadata": {
        "id": "1qku9CLJtx43"
      },
      "cell_type": "markdown",
      "source": [
        "## 2.0 NLP: Words as Vectors\n",
        "\n",
        "\n",
        "---\n",
        "\n",
        "Back to the slides!\n",
        "\n",
        "\n",
        "\n"
      ]
    },
    {
      "metadata": {
        "id": "rNWNeA_7Kh78"
      },
      "cell_type": "markdown",
      "source": [
        "### 2.1 Getting Terms and Documents\n",
        "\n",
        "Imports and boilerplate..."
      ]
    },
    {
      "metadata": {
        "id": "wJYe_vhU1EFC"
      },
      "cell_type": "code",
      "source": [
        "#also super common\n",
        "import nltk #natural language toolkit\n",
        "import sklearn #python library for classical machine learning"
      ],
      "execution_count": null,
      "outputs": []
    },
    {
      "metadata": {
        "id": "FuoIfxEuLnyJ"
      },
      "cell_type": "markdown",
      "source": [
        "`CountVectorizer` : generates bag of word vectors"
      ]
    },
    {
      "metadata": {
        "id": "0DI2CUTqLnAr",
        "outputId": "83641d09-3471-42ea-f451-81ca3f12b7f5",
        "colab": {
          "base_uri": "https://localhost:8080/",
          "height": 86
        }
      },
      "cell_type": "code",
      "source": [
        "cv = sklearn.feature_extraction.text.CountVectorizer()\n",
        "m = cv.fit_transform(['this is a document', 'this is a second document', 'third document document document']).todense()\n",
        "print(cv.vocabulary_)\n",
        "print(m)"
      ],
      "execution_count": null,
      "outputs": [
        {
          "output_type": "stream",
          "text": [
            "{'this': 4, 'is': 1, 'document': 0, 'second': 2, 'third': 3}\n",
            "[[1 1 0 0 1]\n",
            " [1 1 1 0 1]\n",
            " [3 0 0 1 0]]\n"
          ],
          "name": "stdout"
        }
      ]
    },
    {
      "metadata": {
        "id": "Q7aLPxwFMvb8"
      },
      "cell_type": "markdown",
      "source": [
        "Now we can get a term document matrix from the submissions dataframe.\n"
      ]
    },
    {
      "metadata": {
        "id": "i1DT0UUj1LZM"
      },
      "cell_type": "code",
      "source": [
        "count_vectorizer = sklearn.feature_extraction.text.CountVectorizer()\n",
        "td_count_matrix = count_vectorizer.fit_transform(df['tags'])"
      ],
      "execution_count": null,
      "outputs": []
    },
    {
      "metadata": {
        "id": "HFP9H6RUNRBR"
      },
      "cell_type": "markdown",
      "source": [
        "Note that the count vectorizer handles tokenization for us. Tokenization broadly means turning a sentence into word or word like chunks. Easiest way - `sentence.split()`\n",
        "\n",
        "Let's see what the matrix looks like:"
      ]
    },
    {
      "metadata": {
        "id": "LDySYshW1u-h",
        "outputId": "f394c770-8287-4052-d138-7fe1dd0d6ef7",
        "colab": {
          "base_uri": "https://localhost:8080/",
          "height": 34
        }
      },
      "cell_type": "code",
      "source": [
        "td_count_matrix.shape"
      ],
      "execution_count": null,
      "outputs": [
        {
          "output_type": "execute_result",
          "data": {
            "text/plain": [
              "(175, 305)"
            ]
          },
          "metadata": {
            "tags": []
          },
          "execution_count": 47
        }
      ]
    },
    {
      "metadata": {
        "id": "QhJVnryfNXkC"
      },
      "cell_type": "markdown",
      "source": [
        "So we have 177 documents and 305 unique terms.\n",
        "\n",
        "Here's a snippet of the vocab, to convince you that the tokenization worked:"
      ]
    },
    {
      "metadata": {
        "id": "B6HHVamGNoGP",
        "outputId": "09a9693b-e896-4661-ace1-33dc98edd97a",
        "colab": {
          "base_uri": "https://localhost:8080/",
          "height": 191
        }
      },
      "cell_type": "code",
      "source": [
        "list(count_vectorizer.vocabulary_.items())[:10]"
      ],
      "execution_count": null,
      "outputs": [
        {
          "output_type": "execute_result",
          "data": {
            "text/plain": [
              "[('azure', 32),\n",
              " ('react', 234),\n",
              " ('heroku', 130),\n",
              " ('css', 69),\n",
              " ('javascript', 147),\n",
              " ('love', 168),\n",
              " ('caffeine', 48),\n",
              " ('android', 14),\n",
              " ('studio', 269),\n",
              " ('arduino', 23)]"
            ]
          },
          "metadata": {
            "tags": []
          },
          "execution_count": 48
        }
      ]
    },
    {
      "metadata": {
        "id": "0J549PwqQhuZ"
      },
      "cell_type": "markdown",
      "source": [
        "### 2.2 Clustering Tags"
      ]
    },
    {
      "metadata": {
        "id": "H-4EGyK01ynz",
        "outputId": "fc90c563-aa74-4305-b1a7-b0d9c0473c1e",
        "colab": {
          "base_uri": "https://localhost:8080/",
          "height": 52
        }
      },
      "cell_type": "code",
      "source": [
        "from sklearn.decomposition import TruncatedSVD as SVD\n",
        "svd = SVD(10)\n",
        "svd.fit(td_count_matrix)"
      ],
      "execution_count": null,
      "outputs": [
        {
          "output_type": "execute_result",
          "data": {
            "text/plain": [
              "TruncatedSVD(algorithm='randomized', n_components=10, n_iter=5,\n",
              "       random_state=None, tol=0.0)"
            ]
          },
          "metadata": {
            "tags": []
          },
          "execution_count": 49
        }
      ]
    },
    {
      "metadata": {
        "id": "rvF5cKNESauc"
      },
      "cell_type": "markdown",
      "source": [
        "`sklearn` provides us with very nice abstractions, calculating this complicated matrix decomposition is that simple.\n",
        "\n",
        "There are lots of things we can do with this matrix (like search), but for now let's examine the similar words:"
      ]
    },
    {
      "metadata": {
        "id": "KGJpo15s8U6X"
      },
      "cell_type": "code",
      "source": [
        "from IPython.core.display import display, HTML\n",
        "def tabulate(data, header=True):\n",
        "    display_df = pd.DataFrame(data)\n",
        "    display(HTML(display_df.to_html(index=False, header=header)))"
      ],
      "execution_count": null,
      "outputs": []
    },
    {
      "metadata": {
        "id": "Z4HwSrMzS_LN",
        "outputId": "be5b508f-89d1-4731-8bd2-f2bc9291968c",
        "colab": {
          "base_uri": "https://localhost:8080/",
          "height": 676
        }
      },
      "cell_type": "code",
      "source": [
        "data = []\n",
        "for i in range(len(svd.components_)):\n",
        "    scores = []\n",
        "    words = []\n",
        "    topk = sorted(zip(svd.components_[i], count_vectorizer.get_feature_names()), reverse=True)[:10]\n",
        "    scores, words = zip(*topk)\n",
        "    data.append(scores)\n",
        "    data.append(words)\n",
        "tabulate(data)"
      ],
      "execution_count": null,
      "outputs": [
        {
          "output_type": "display_data",
          "data": {
            "text/html": [
              "<table border=\"1\" class=\"dataframe\">\n",
              "  <thead>\n",
              "    <tr style=\"text-align: right;\">\n",
              "      <th>0</th>\n",
              "      <th>1</th>\n",
              "      <th>2</th>\n",
              "      <th>3</th>\n",
              "      <th>4</th>\n",
              "      <th>5</th>\n",
              "      <th>6</th>\n",
              "      <th>7</th>\n",
              "      <th>8</th>\n",
              "      <th>9</th>\n",
              "    </tr>\n",
              "  </thead>\n",
              "  <tbody>\n",
              "    <tr>\n",
              "      <td>0.42948</td>\n",
              "      <td>0.405186</td>\n",
              "      <td>0.292172</td>\n",
              "      <td>0.239077</td>\n",
              "      <td>0.233803</td>\n",
              "      <td>0.210985</td>\n",
              "      <td>0.202825</td>\n",
              "      <td>0.194406</td>\n",
              "      <td>0.187247</td>\n",
              "      <td>0.171321</td>\n",
              "    </tr>\n",
              "    <tr>\n",
              "      <td>js</td>\n",
              "      <td>javascript</td>\n",
              "      <td>python</td>\n",
              "      <td>api</td>\n",
              "      <td>node</td>\n",
              "      <td>html</td>\n",
              "      <td>css</td>\n",
              "      <td>android</td>\n",
              "      <td>azure</td>\n",
              "      <td>html5</td>\n",
              "    </tr>\n",
              "    <tr>\n",
              "      <td>0.569338</td>\n",
              "      <td>0.305759</td>\n",
              "      <td>0.28634</td>\n",
              "      <td>0.212995</td>\n",
              "      <td>0.205829</td>\n",
              "      <td>0.195477</td>\n",
              "      <td>0.156634</td>\n",
              "      <td>0.104973</td>\n",
              "      <td>0.10156</td>\n",
              "      <td>0.0918916</td>\n",
              "    </tr>\n",
              "    <tr>\n",
              "      <td>android</td>\n",
              "      <td>java</td>\n",
              "      <td>studio</td>\n",
              "      <td>google</td>\n",
              "      <td>api</td>\n",
              "      <td>firebase</td>\n",
              "      <td>maps</td>\n",
              "      <td>aws</td>\n",
              "      <td>microsoft</td>\n",
              "      <td>xml</td>\n",
              "    </tr>\n",
              "    <tr>\n",
              "      <td>0.531912</td>\n",
              "      <td>0.330388</td>\n",
              "      <td>0.27287</td>\n",
              "      <td>0.227206</td>\n",
              "      <td>0.14458</td>\n",
              "      <td>0.128784</td>\n",
              "      <td>0.106199</td>\n",
              "      <td>0.106149</td>\n",
              "      <td>0.0989379</td>\n",
              "      <td>0.0886033</td>\n",
              "    </tr>\n",
              "    <tr>\n",
              "      <td>api</td>\n",
              "      <td>bing</td>\n",
              "      <td>microsoft</td>\n",
              "      <td>azure</td>\n",
              "      <td>cognitive</td>\n",
              "      <td>search</td>\n",
              "      <td>ncr</td>\n",
              "      <td>maps</td>\n",
              "      <td>html5</td>\n",
              "      <td>css3</td>\n",
              "    </tr>\n",
              "    <tr>\n",
              "      <td>0.505676</td>\n",
              "      <td>0.303183</td>\n",
              "      <td>0.113081</td>\n",
              "      <td>0.106586</td>\n",
              "      <td>0.102587</td>\n",
              "      <td>0.102334</td>\n",
              "      <td>0.0768855</td>\n",
              "      <td>0.0764952</td>\n",
              "      <td>0.0702189</td>\n",
              "      <td>0.0597339</td>\n",
              "    </tr>\n",
              "    <tr>\n",
              "      <td>js</td>\n",
              "      <td>node</td>\n",
              "      <td>amazon</td>\n",
              "      <td>express</td>\n",
              "      <td>bing</td>\n",
              "      <td>services</td>\n",
              "      <td>alexa</td>\n",
              "      <td>maps</td>\n",
              "      <td>api</td>\n",
              "      <td>mongodb</td>\n",
              "    </tr>\n",
              "    <tr>\n",
              "      <td>0.524578</td>\n",
              "      <td>0.255791</td>\n",
              "      <td>0.244996</td>\n",
              "      <td>0.188578</td>\n",
              "      <td>0.108815</td>\n",
              "      <td>0.105405</td>\n",
              "      <td>0.0947743</td>\n",
              "      <td>0.0928982</td>\n",
              "      <td>0.064114</td>\n",
              "      <td>0.0637233</td>\n",
              "    </tr>\n",
              "    <tr>\n",
              "      <td>python</td>\n",
              "      <td>flask</td>\n",
              "      <td>js</td>\n",
              "      <td>amazon</td>\n",
              "      <td>d3</td>\n",
              "      <td>ncr</td>\n",
              "      <td>unity</td>\n",
              "      <td>web</td>\n",
              "      <td>azure</td>\n",
              "      <td>machine</td>\n",
              "    </tr>\n",
              "    <tr>\n",
              "      <td>0.482239</td>\n",
              "      <td>0.380573</td>\n",
              "      <td>0.336648</td>\n",
              "      <td>0.244958</td>\n",
              "      <td>0.161025</td>\n",
              "      <td>0.144482</td>\n",
              "      <td>0.141839</td>\n",
              "      <td>0.117644</td>\n",
              "      <td>0.102239</td>\n",
              "      <td>0.0922208</td>\n",
              "    </tr>\n",
              "    <tr>\n",
              "      <td>amazon</td>\n",
              "      <td>services</td>\n",
              "      <td>web</td>\n",
              "      <td>html</td>\n",
              "      <td>firebase</td>\n",
              "      <td>aws</td>\n",
              "      <td>css</td>\n",
              "      <td>api</td>\n",
              "      <td>alexa</td>\n",
              "      <td>bing</td>\n",
              "    </tr>\n",
              "    <tr>\n",
              "      <td>0.497353</td>\n",
              "      <td>0.420488</td>\n",
              "      <td>0.213287</td>\n",
              "      <td>0.184285</td>\n",
              "      <td>0.163503</td>\n",
              "      <td>0.15324</td>\n",
              "      <td>0.0867637</td>\n",
              "      <td>0.0839436</td>\n",
              "      <td>0.0809389</td>\n",
              "      <td>0.0790545</td>\n",
              "    </tr>\n",
              "    <tr>\n",
              "      <td>html5</td>\n",
              "      <td>css3</td>\n",
              "      <td>amazon</td>\n",
              "      <td>services</td>\n",
              "      <td>web</td>\n",
              "      <td>javascript</td>\n",
              "      <td>general</td>\n",
              "      <td>maps</td>\n",
              "      <td>php</td>\n",
              "      <td>d3</td>\n",
              "    </tr>\n",
              "    <tr>\n",
              "      <td>0.490665</td>\n",
              "      <td>0.236989</td>\n",
              "      <td>0.181651</td>\n",
              "      <td>0.181651</td>\n",
              "      <td>0.168653</td>\n",
              "      <td>0.151156</td>\n",
              "      <td>0.114415</td>\n",
              "      <td>0.106806</td>\n",
              "      <td>0.106806</td>\n",
              "      <td>0.101043</td>\n",
              "    </tr>\n",
              "    <tr>\n",
              "      <td>google</td>\n",
              "      <td>maps</td>\n",
              "      <td>machine</td>\n",
              "      <td>learning</td>\n",
              "      <td>firebase</td>\n",
              "      <td>on</td>\n",
              "      <td>processing</td>\n",
              "      <td>natural</td>\n",
              "      <td>language</td>\n",
              "      <td>js</td>\n",
              "    </tr>\n",
              "    <tr>\n",
              "      <td>0.603644</td>\n",
              "      <td>0.274688</td>\n",
              "      <td>0.269158</td>\n",
              "      <td>0.182465</td>\n",
              "      <td>0.159565</td>\n",
              "      <td>0.149262</td>\n",
              "      <td>0.128923</td>\n",
              "      <td>0.122392</td>\n",
              "      <td>0.091092</td>\n",
              "      <td>0.091092</td>\n",
              "    </tr>\n",
              "    <tr>\n",
              "      <td>firebase</td>\n",
              "      <td>aws</td>\n",
              "      <td>ncr</td>\n",
              "      <td>html5</td>\n",
              "      <td>react</td>\n",
              "      <td>azure</td>\n",
              "      <td>css</td>\n",
              "      <td>typescript</td>\n",
              "      <td>ultrasonic</td>\n",
              "      <td>sendbird</td>\n",
              "    </tr>\n",
              "    <tr>\n",
              "      <td>0.639107</td>\n",
              "      <td>0.197363</td>\n",
              "      <td>0.189377</td>\n",
              "      <td>0.189377</td>\n",
              "      <td>0.184865</td>\n",
              "      <td>0.132016</td>\n",
              "      <td>0.123367</td>\n",
              "      <td>0.0954591</td>\n",
              "      <td>0.0952888</td>\n",
              "      <td>0.0782528</td>\n",
              "    </tr>\n",
              "    <tr>\n",
              "      <td>azure</td>\n",
              "      <td>processing</td>\n",
              "      <td>natural</td>\n",
              "      <td>language</td>\n",
              "      <td>google</td>\n",
              "      <td>on</td>\n",
              "      <td>actions</td>\n",
              "      <td>framework</td>\n",
              "      <td>microsoft</td>\n",
              "      <td>notebook</td>\n",
              "    </tr>\n",
              "  </tbody>\n",
              "</table>"
            ],
            "text/plain": [
              "<IPython.core.display.HTML object>"
            ]
          },
          "metadata": {
            "tags": []
          }
        }
      ]
    },
    {
      "metadata": {
        "id": "Z5t2EU07UAob"
      },
      "cell_type": "markdown",
      "source": [
        "- These reduced features are linear combinations of the old ones\n",
        "  - we could call the first one a webdev-ish dimension\n",
        "  - there's also an ML/NLP dimension <3\n",
        "- Not always interpretable\n",
        "- SVD doesn't care about broader language - it only cares about co occurrences\n",
        "\n",
        "Let's look at the actual matrix and see if it tells us anything useful:\n"
      ]
    },
    {
      "metadata": {
        "id": "xJvBcmWx8U6l"
      },
      "cell_type": "code",
      "source": [
        "#get the 50 most common tags\n",
        "from collections import Counter\n",
        "tag_counts = Counter()\n",
        "for tags in df.tags.values:\n",
        "    tag_counts.update((t for t in tags.split(', ') if t in count_vectorizer.vocabulary_))"
      ],
      "execution_count": null,
      "outputs": []
    },
    {
      "metadata": {
        "id": "tIhDkjrh8U6r",
        "colab": {
          "base_uri": "https://localhost:8080/",
          "height": 624
        },
        "outputId": "7afc4c51-a5f0-44bf-dcd2-260e322414ee"
      },
      "cell_type": "code",
      "source": [
        "N = 30\n",
        "ixs_of_interest = []\n",
        "for tag, _ in tag_counts.most_common(N):\n",
        "    ixs_of_interest.append(count_vectorizer.vocabulary_[tag])\n",
        "mat = svd.components_[:, ixs_of_interest]\n",
        "fig, ax = plt.subplots(figsize=(10, 10))\n",
        "ax.imshow(mat, aspect='auto', cmap='bwr')\n",
        "ax.set_xticks(range(N))\n",
        "ax.set_xticklabels([t for t, _ in tag_counts.most_common(N)], rotation=60)\n",
        "ax.xaxis.set_ticks_position('none')"
      ],
      "execution_count": null,
      "outputs": [
        {
          "output_type": "display_data",
          "data": {
            "image/png": "[encoded data removed]",
            "text/plain": [
              "<matplotlib.figure.Figure at 0x7f0d18f33940>"
            ]
          },
          "metadata": {
            "tags": []
          }
        }
      ]
    },
    {
      "metadata": {
        "id": "lXSA1BUv5IIF"
      },
      "cell_type": "markdown",
      "source": [
        "This gives us an idea of the actual topic structures"
      ]
    },
    {
      "metadata": {
        "id": "gxnGqwd7VW17"
      },
      "cell_type": "markdown",
      "source": [
        "### 2.3 Clustering Documents\n",
        "\n",
        "I'll repeat the experiment, using the full `descriptions` instead of just the `tags` columns."
      ]
    },
    {
      "metadata": {
        "id": "HBKe5hhsT_2t",
        "outputId": "4445701a-49fe-4521-8290-78d790602ab3",
        "colab": {
          "base_uri": "https://localhost:8080/",
          "height": 363
        }
      },
      "cell_type": "code",
      "source": [
        "# vectorize the documents\n",
        "count_vectorizer = sklearn.feature_extraction.text.CountVectorizer()\n",
        "td_count_matrix = count_vectorizer.fit_transform(df['description'])\n",
        "svd = SVD(10)\n",
        "svd.fit(td_count_matrix)\n",
        "\n",
        "data = []\n",
        "for i in range(len(svd.components_)):\n",
        "    scores = []\n",
        "    words = []\n",
        "    topk = sorted(zip(svd.components_[i], count_vectorizer.get_feature_names()), reverse=True)[:10]\n",
        "    scores, words = zip(*topk)\n",
        "#     data.append(scores)\n",
        "    data.append(words)\n",
        "\n",
        "tabulate(data)"
      ],
      "execution_count": null,
      "outputs": [
        {
          "output_type": "display_data",
          "data": {
            "text/html": [
              "<table border=\"1\" class=\"dataframe\">\n",
              "  <thead>\n",
              "    <tr style=\"text-align: right;\">\n",
              "      <th>0</th>\n",
              "      <th>1</th>\n",
              "      <th>2</th>\n",
              "      <th>3</th>\n",
              "      <th>4</th>\n",
              "      <th>5</th>\n",
              "      <th>6</th>\n",
              "      <th>7</th>\n",
              "      <th>8</th>\n",
              "      <th>9</th>\n",
              "    </tr>\n",
              "  </thead>\n",
              "  <tbody>\n",
              "    <tr>\n",
              "      <td>the</td>\n",
              "      <td>to</td>\n",
              "      <td>and</td>\n",
              "      <td>we</td>\n",
              "      <td>of</td>\n",
              "      <td>in</td>\n",
              "      <td>that</td>\n",
              "      <td>for</td>\n",
              "      <td>it</td>\n",
              "      <td>with</td>\n",
              "    </tr>\n",
              "    <tr>\n",
              "      <td>we</td>\n",
              "      <td>to</td>\n",
              "      <td>and</td>\n",
              "      <td>our</td>\n",
              "      <td>it</td>\n",
              "      <td>what</td>\n",
              "      <td>how</td>\n",
              "      <td>as</td>\n",
              "      <td>learned</td>\n",
              "      <td>that</td>\n",
              "    </tr>\n",
              "    <tr>\n",
              "      <td>and</td>\n",
              "      <td>to</td>\n",
              "      <td>is</td>\n",
              "      <td>you</td>\n",
              "      <td>my</td>\n",
              "      <td>it</td>\n",
              "      <td>app</td>\n",
              "      <td>this</td>\n",
              "      <td>or</td>\n",
              "      <td>what</td>\n",
              "    </tr>\n",
              "    <tr>\n",
              "      <td>to</td>\n",
              "      <td>ingredients</td>\n",
              "      <td>app</td>\n",
              "      <td>that</td>\n",
              "      <td>user</td>\n",
              "      <td>recipes</td>\n",
              "      <td>as</td>\n",
              "      <td>model</td>\n",
              "      <td>recipe</td>\n",
              "      <td>users</td>\n",
              "    </tr>\n",
              "    <tr>\n",
              "      <td>of</td>\n",
              "      <td>our</td>\n",
              "      <td>and</td>\n",
              "      <td>model</td>\n",
              "      <td>app</td>\n",
              "      <td>in</td>\n",
              "      <td>recipes</td>\n",
              "      <td>recipe</td>\n",
              "      <td>data</td>\n",
              "      <td>database</td>\n",
              "    </tr>\n",
              "    <tr>\n",
              "      <td>our</td>\n",
              "      <td>is</td>\n",
              "      <td>keyboard</td>\n",
              "      <td>that</td>\n",
              "      <td>be</td>\n",
              "      <td>would</td>\n",
              "      <td>could</td>\n",
              "      <td>one</td>\n",
              "      <td>have</td>\n",
              "      <td>keyboards</td>\n",
              "    </tr>\n",
              "    <tr>\n",
              "      <td>you</td>\n",
              "      <td>data</td>\n",
              "      <td>that</td>\n",
              "      <td>is</td>\n",
              "      <td>your</td>\n",
              "      <td>model</td>\n",
              "      <td>recipes</td>\n",
              "      <td>keyboard</td>\n",
              "      <td>then</td>\n",
              "      <td>recipe</td>\n",
              "    </tr>\n",
              "    <tr>\n",
              "      <td>and</td>\n",
              "      <td>the</td>\n",
              "      <td>you</td>\n",
              "      <td>we</td>\n",
              "      <td>api</td>\n",
              "      <td>will</td>\n",
              "      <td>app</td>\n",
              "      <td>your</td>\n",
              "      <td>microsoft</td>\n",
              "      <td>vision</td>\n",
              "    </tr>\n",
              "    <tr>\n",
              "      <td>data</td>\n",
              "      <td>for</td>\n",
              "      <td>app</td>\n",
              "      <td>predict_</td>\n",
              "      <td>if</td>\n",
              "      <td>is</td>\n",
              "      <td>price</td>\n",
              "      <td>our</td>\n",
              "      <td>amount</td>\n",
              "      <td>it</td>\n",
              "    </tr>\n",
              "    <tr>\n",
              "      <td>in</td>\n",
              "      <td>as</td>\n",
              "      <td>are</td>\n",
              "      <td>with</td>\n",
              "      <td>if</td>\n",
              "      <td>people</td>\n",
              "      <td>predict_</td>\n",
              "      <td>price</td>\n",
              "      <td>you</td>\n",
              "      <td>by</td>\n",
              "    </tr>\n",
              "  </tbody>\n",
              "</table>"
            ],
            "text/plain": [
              "<IPython.core.display.HTML object>"
            ]
          },
          "metadata": {
            "tags": []
          }
        }
      ]
    },
    {
      "metadata": {
        "id": "v_PuTPd1WmQI"
      },
      "cell_type": "markdown",
      "source": [
        "- Those are boring\n",
        "- Why?\n",
        "  - Lots of confounding words!\n",
        "  - Lots of useless co-occurrence data\n",
        "    - it doesn't help me to know that *the* appears often with *application*\n",
        "\n",
        "---\n",
        "\n",
        "    \n",
        "We can solve this!\n",
        "\n",
        "Replace our bag of words with a bag of tricks:\n",
        "- use **tf-idf** instead of basic word counts\n",
        "- remove useless **stop words**"
      ]
    },
    {
      "metadata": {
        "id": "t7iCwFgVLWpM"
      },
      "cell_type": "code",
      "source": [
        "#I manually created this list so it would be easy to add your own as you experiment\n",
        "#In reality you could do something like filter the top N most frequent words (similar to IDF)\n",
        "stop_words = ['the', 'to', 'we', 'and', 'of', 'it', 'in', 'for', 'with', 'is', 'this', 'my', \\\n",
        "              'that', 'our', 'what', 'on', 'as', 'you', 'was']\n",
        "tfidf_vectorizer = sklearn.feature_extraction.text.TfidfVectorizer(stop_words=stop_words) # this has lots of parameters - experiment!\n",
        "# sklearn.feature_extraction.text.TfidfVectorizer?"
      ],
      "execution_count": null,
      "outputs": []
    },
    {
      "metadata": {
        "id": "Md9RIiwC3BaV",
        "outputId": "9211d783-6602-40d7-ecb5-6c0391b95273",
        "colab": {
          "base_uri": "https://localhost:8080/",
          "height": 363
        }
      },
      "cell_type": "code",
      "source": [
        "# vectorize the documents\n",
        "tfidf_matrix = tfidf_vectorizer.fit_transform(df['description'])\n",
        "svd = SVD(10)\n",
        "svd.fit(tfidf_matrix)\n",
        "data = []\n",
        "for i in range(len(svd.components_)):\n",
        "    scores = []\n",
        "    words = []\n",
        "    topk = sorted(zip(svd.components_[i], tfidf_vectorizer.get_feature_names()), reverse=True)[:10]\n",
        "    _, words = zip(*topk)\n",
        "    data.append(words)\n",
        "tabulate(data)"
      ],
      "execution_count": null,
      "outputs": [
        {
          "output_type": "display_data",
          "data": {
            "text/html": [
              "<table border=\"1\" class=\"dataframe\">\n",
              "  <thead>\n",
              "    <tr style=\"text-align: right;\">\n",
              "      <th>0</th>\n",
              "      <th>1</th>\n",
              "      <th>2</th>\n",
              "      <th>3</th>\n",
              "      <th>4</th>\n",
              "      <th>5</th>\n",
              "      <th>6</th>\n",
              "      <th>7</th>\n",
              "      <th>8</th>\n",
              "      <th>9</th>\n",
              "    </tr>\n",
              "  </thead>\n",
              "  <tbody>\n",
              "    <tr>\n",
              "      <td>data</td>\n",
              "      <td>app</td>\n",
              "      <td>application</td>\n",
              "      <td>can</td>\n",
              "      <td>how</td>\n",
              "      <td>an</td>\n",
              "      <td>user</td>\n",
              "      <td>are</td>\n",
              "      <td>be</td>\n",
              "      <td>into</td>\n",
              "    </tr>\n",
              "    <tr>\n",
              "      <td>data</td>\n",
              "      <td>stock</td>\n",
              "      <td>analysis</td>\n",
              "      <td>fraud</td>\n",
              "      <td>risk</td>\n",
              "      <td>sentiment</td>\n",
              "      <td>finra</td>\n",
              "      <td>api</td>\n",
              "      <td>python</td>\n",
              "      <td>model</td>\n",
              "    </tr>\n",
              "    <tr>\n",
              "      <td>alexa</td>\n",
              "      <td>game</td>\n",
              "      <td>unity</td>\n",
              "      <td>motion</td>\n",
              "      <td>skill</td>\n",
              "      <td>lambda</td>\n",
              "      <td>how</td>\n",
              "      <td>aws</td>\n",
              "      <td>virtual</td>\n",
              "      <td>reality</td>\n",
              "    </tr>\n",
              "    <tr>\n",
              "      <td>alexa</td>\n",
              "      <td>skill</td>\n",
              "      <td>lambda</td>\n",
              "      <td>aws</td>\n",
              "      <td>node</td>\n",
              "      <td>js</td>\n",
              "      <td>jira</td>\n",
              "      <td>learnt</td>\n",
              "      <td>voice</td>\n",
              "      <td>amazon</td>\n",
              "    </tr>\n",
              "    <tr>\n",
              "      <td>ingredients</td>\n",
              "      <td>recipe</td>\n",
              "      <td>recipes</td>\n",
              "      <td>ncr</td>\n",
              "      <td>model</td>\n",
              "      <td>food</td>\n",
              "      <td>end</td>\n",
              "      <td>speech</td>\n",
              "      <td>items</td>\n",
              "      <td>ingredient</td>\n",
              "    </tr>\n",
              "    <tr>\n",
              "      <td>alexa</td>\n",
              "      <td>myo</td>\n",
              "      <td>android</td>\n",
              "      <td>unity</td>\n",
              "      <td>ingredients</td>\n",
              "      <td>vr</td>\n",
              "      <td>armband</td>\n",
              "      <td>lambda</td>\n",
              "      <td>skill</td>\n",
              "      <td>drone</td>\n",
              "    </tr>\n",
              "    <tr>\n",
              "      <td>application</td>\n",
              "      <td>notes</td>\n",
              "      <td>students</td>\n",
              "      <td>will</td>\n",
              "      <td>text</td>\n",
              "      <td>microsoft</td>\n",
              "      <td>vision</td>\n",
              "      <td>image</td>\n",
              "      <td>api</td>\n",
              "      <td>speech</td>\n",
              "    </tr>\n",
              "    <tr>\n",
              "      <td>chatbot</td>\n",
              "      <td>bot</td>\n",
              "      <td>recipe</td>\n",
              "      <td>ingredients</td>\n",
              "      <td>recipes</td>\n",
              "      <td>unity</td>\n",
              "      <td>flight</td>\n",
              "      <td>their</td>\n",
              "      <td>questions</td>\n",
              "      <td>ncr</td>\n",
              "    </tr>\n",
              "    <tr>\n",
              "      <td>parking</td>\n",
              "      <td>park</td>\n",
              "      <td>car</td>\n",
              "      <td>parkme</td>\n",
              "      <td>spots</td>\n",
              "      <td>very</td>\n",
              "      <td>end</td>\n",
              "      <td>us</td>\n",
              "      <td>general</td>\n",
              "      <td>unity</td>\n",
              "    </tr>\n",
              "    <tr>\n",
              "      <td>python</td>\n",
              "      <td>stock</td>\n",
              "      <td>motion</td>\n",
              "      <td>api</td>\n",
              "      <td>google</td>\n",
              "      <td>music</td>\n",
              "      <td>food</td>\n",
              "      <td>notes</td>\n",
              "      <td>leap</td>\n",
              "      <td>location</td>\n",
              "    </tr>\n",
              "  </tbody>\n",
              "</table>"
            ],
            "text/plain": [
              "<IPython.core.display.HTML object>"
            ]
          },
          "metadata": {
            "tags": []
          }
        }
      ]
    },
    {
      "metadata": {
        "id": "f0ktaXb68U7V"
      },
      "cell_type": "markdown",
      "source": [
        "## 3.0: Search\n",
        "\n",
        "---\n",
        "\n",
        "\n",
        "\n",
        "- We've shown how to vectorize documents\n",
        "- We've shown that some of these vectors have semantic properties\n",
        "\n",
        "Now, we can try to create a search engine using these vectors!\n"
      ]
    },
    {
      "metadata": {
        "id": "IC9PeB27LPDZ"
      },
      "cell_type": "markdown",
      "source": [
        "\n",
        "\n",
        "### 3.1 Information Retreival\n",
        "\n",
        "See slides\n",
        "\n",
        "\n",
        "---\n",
        "\n",
        "\n"
      ]
    },
    {
      "metadata": {
        "id": "vMNJzcjwLRVU"
      },
      "cell_type": "markdown",
      "source": [
        "\n",
        "### 3.2 Classical Methods\n",
        "\n",
        "We can use either **count vectors (tfidf)** or **lsa vectors** in our search engine.\n",
        "\n",
        "\n",
        "First, some set up:"
      ]
    },
    {
      "metadata": {
        "id": "XxpidQkK8U7W",
        "colab": {
          "base_uri": "https://localhost:8080/",
          "height": 52
        },
        "outputId": "97edc927-d32b-470c-ae43-82a362cbf4a3"
      },
      "cell_type": "code",
      "source": [
        "#fetch a dataset...\n",
        "nltk.download('punkt')\n",
        "\n",
        "\n",
        "hack_documents = [\n",
        "    \"Use machine learning on text messages to predict when you are hungry.\",\n",
        "    \"Tour college campuses using an oculus rift.\",\n",
        "    \"Use blockchain to keep track of which roommate needs to take out the trash.\"\n",
        "]\n",
        "\n",
        "def tokenize(raw_text, vocab = None):\n",
        "    tokens = []\n",
        "    for sentence in nltk.sent_tokenize(raw_text):\n",
        "        tokens += nltk.word_tokenize(sentence)\n",
        "    tokens = [t.lower() for t in tokens if not vocab or t.lower() in vocab]\n",
        "    return tokens"
      ],
      "execution_count": null,
      "outputs": [
        {
          "output_type": "stream",
          "text": [
            "[nltk_data] Downloading package punkt to /root/nltk_data...\n",
            "[nltk_data]   Package punkt is already up-to-date!\n"
          ],
          "name": "stdout"
        }
      ]
    },
    {
      "metadata": {
        "id": "1STkcN1QK9UH"
      },
      "cell_type": "markdown",
      "source": [
        "The rest of this is some dense boilerplate. Important parts:\n",
        "\n",
        "- `tfidf_model` and `lsa_model` are functions that take a `query` and `document` and return a score (higher is better)\n",
        "- `search` takes a model, documents, and a query and returns the document with the highest score.\n",
        "\n",
        "There are much better ways to implement this, but this works and is simple. Really,  you should precompute and store all the document vectors in a single matrix, and then do a matrix vector product to calculate all the scores at once."
      ]
    },
    {
      "metadata": {
        "id": "KefosHfN8U7Y"
      },
      "cell_type": "code",
      "source": [
        "tfidf_vectorizer = sklearn.feature_extraction.text.TfidfVectorizer(stop_words=stop_words)\n",
        "tfidf_matrix = tfidf_vectorizer.fit_transform([' '.join(tokenize(d)) for d in df['description']])\n",
        "svd = SVD(10)\n",
        "svd.fit(tfidf_matrix)\n",
        "\n",
        "def cosine(a, b):\n",
        "    eps = 1e-8\n",
        "    if type(a) is np.ndarray:\n",
        "        return a.dot(b) / ((np.linalg.norm(a) * np.linalg.norm(b)) + eps)\n",
        "    else:\n",
        "        return a.dot(b) / ((a.norm() * b.norm()) + eps)\n",
        "\n",
        "def tfidf_model(query, document):\n",
        "    query_vector = tfidf_vectorizer.transform([' '.join(tokenize(query, tfidf_vectorizer.get_feature_names()))]).todense()\n",
        "    doc_vector = tfidf_vectorizer.transform([' '.join(tokenize(document, tfidf_vectorizer.get_feature_names()))]).todense()\n",
        "    doc_vector = np.squeeze(np.asarray(doc_vector))\n",
        "    query_vector = np.squeeze(np.asarray(query_vector))\n",
        "    return cosine(query_vector, doc_vector)\n",
        "\n",
        "def lsa_model(query, document):\n",
        "    query = ' '.join(tokenize(query, tfidf_vectorizer.get_feature_names()))\n",
        "    document = ' '.join(tokenize(document, tfidf_vectorizer.get_feature_names()))\n",
        "    query_vector = tfidf_vectorizer.transform([query]).todense()\n",
        "    doc_vector = tfidf_vectorizer.transform([document]).todense()\n",
        "    query_vector = svd.transform(query_vector)\n",
        "    doc_vector = svd.transform(doc_vector)\n",
        "    return cosine(np.squeeze(np.asarray(doc_vector)), np.squeeze(np.asarray(query_vector)))\n",
        "\n",
        "def search(model, query, documents, names = None):\n",
        "    scores = [model(query, document) for document in documents]\n",
        "    ixs = list(reversed(np.argsort(scores)[-10:]))\n",
        "\n",
        "    data = [[scores[i] for i in ixs], [documents[i][:150] for i in ixs]]\n",
        "    if names is not None:\n",
        "        data.append([names[i] for i in ixs])\n",
        "    tabulate(data, header=False)"
      ],
      "execution_count": null,
      "outputs": []
    },
    {
      "metadata": {
        "id": "u-suE_l7NLDW",
        "colab": {
          "base_uri": "https://localhost:8080/",
          "height": 97
        },
        "outputId": "d36b66ac-76f0-4ddd-b4d0-c10e03a722cb"
      },
      "cell_type": "code",
      "source": [
        "#search for a known keyword, using just keyword matches\n",
        "search(tfidf_model, \"trash\", hack_documents)"
      ],
      "execution_count": null,
      "outputs": [
        {
          "output_type": "display_data",
          "data": {
            "text/html": [
              "<table border=\"1\" class=\"dataframe\">\n",
              "  <tbody>\n",
              "    <tr>\n",
              "      <td>0.517868</td>\n",
              "      <td>0</td>\n",
              "      <td>0</td>\n",
              "    </tr>\n",
              "    <tr>\n",
              "      <td>Use blockchain to keep track of which roommate...</td>\n",
              "      <td>Tour college campuses using an oculus rift.</td>\n",
              "      <td>Use machine learning on text messages to predi...</td>\n",
              "    </tr>\n",
              "  </tbody>\n",
              "</table>"
            ],
            "text/plain": [
              "<IPython.core.display.HTML object>"
            ]
          },
          "metadata": {
            "tags": []
          }
        }
      ]
    },
    {
      "metadata": {
        "id": "cupgTHLfNHzT",
        "colab": {
          "base_uri": "https://localhost:8080/",
          "height": 97
        },
        "outputId": "e2f30d36-431e-4062-c239-a2f81042c3b2"
      },
      "cell_type": "code",
      "source": [
        "#search for keywords that don't exist in the corpus\n",
        "search(lsa_model, \"virtual reality\", hack_documents)\n"
      ],
      "execution_count": null,
      "outputs": [
        {
          "output_type": "display_data",
          "data": {
            "text/html": [
              "<table border=\"1\" class=\"dataframe\">\n",
              "  <tbody>\n",
              "    <tr>\n",
              "      <td>0.774182</td>\n",
              "      <td>0.135699</td>\n",
              "      <td>0.107</td>\n",
              "    </tr>\n",
              "    <tr>\n",
              "      <td>Tour college campuses using an oculus rift.</td>\n",
              "      <td>Use blockchain to keep track of which roommate...</td>\n",
              "      <td>Use machine learning on text messages to predi...</td>\n",
              "    </tr>\n",
              "  </tbody>\n",
              "</table>"
            ],
            "text/plain": [
              "<IPython.core.display.HTML object>"
            ]
          },
          "metadata": {
            "tags": []
          }
        }
      ]
    },
    {
      "metadata": {
        "id": "skQNCALT9lmp",
        "colab": {
          "base_uri": "https://localhost:8080/",
          "height": 97
        },
        "outputId": "a64e05d5-4b44-41f2-b892-a87e29e87640"
      },
      "cell_type": "code",
      "source": [
        "#let's experiment here\n",
        "search(lsa_model, \"unity\", hack_documents)"
      ],
      "execution_count": null,
      "outputs": [
        {
          "output_type": "display_data",
          "data": {
            "text/html": [
              "<table border=\"1\" class=\"dataframe\">\n",
              "  <tbody>\n",
              "    <tr>\n",
              "      <td>0.715943</td>\n",
              "      <td>0.172734</td>\n",
              "      <td>0.0117467</td>\n",
              "    </tr>\n",
              "    <tr>\n",
              "      <td>Tour college campuses using an oculus rift.</td>\n",
              "      <td>Use blockchain to keep track of which roommate...</td>\n",
              "      <td>Use machine learning on text messages to predi...</td>\n",
              "    </tr>\n",
              "  </tbody>\n",
              "</table>"
            ],
            "text/plain": [
              "<IPython.core.display.HTML object>"
            ]
          },
          "metadata": {
            "tags": []
          }
        }
      ]
    },
    {
      "metadata": {
        "id": "DUFhR9fD8U7b"
      },
      "cell_type": "markdown",
      "source": [
        "Here is a failure case"
      ]
    },
    {
      "metadata": {
        "id": "igzOj4pb8U7d",
        "colab": {
          "base_uri": "https://localhost:8080/",
          "height": 177
        },
        "outputId": "d4fdfa09-4f93-4a4e-8517-ddbd67a8174c"
      },
      "cell_type": "code",
      "source": [
        "search(tfidf_model, \"university visits\", hack_documents)\n",
        "search(lsa_model, \"university visits\", hack_documents)"
      ],
      "execution_count": null,
      "outputs": [
        {
          "output_type": "display_data",
          "data": {
            "text/html": [
              "<table border=\"1\" class=\"dataframe\">\n",
              "  <tbody>\n",
              "    <tr>\n",
              "      <td>0</td>\n",
              "      <td>0</td>\n",
              "      <td>0</td>\n",
              "    </tr>\n",
              "    <tr>\n",
              "      <td>Use blockchain to keep track of which roommate...</td>\n",
              "      <td>Tour college campuses using an oculus rift.</td>\n",
              "      <td>Use machine learning on text messages to predi...</td>\n",
              "    </tr>\n",
              "  </tbody>\n",
              "</table>"
            ],
            "text/plain": [
              "<IPython.core.display.HTML object>"
            ]
          },
          "metadata": {
            "tags": []
          }
        },
        {
          "output_type": "display_data",
          "data": {
            "text/html": [
              "<table border=\"1\" class=\"dataframe\">\n",
              "  <tbody>\n",
              "    <tr>\n",
              "      <td>0.129671</td>\n",
              "      <td>-0.0386039</td>\n",
              "      <td>-0.161388</td>\n",
              "    </tr>\n",
              "    <tr>\n",
              "      <td>Use machine learning on text messages to predi...</td>\n",
              "      <td>Tour college campuses using an oculus rift.</td>\n",
              "      <td>Use blockchain to keep track of which roommate...</td>\n",
              "    </tr>\n",
              "  </tbody>\n",
              "</table>"
            ],
            "text/plain": [
              "<IPython.core.display.HTML object>"
            ]
          },
          "metadata": {
            "tags": []
          }
        }
      ]
    },
    {
      "metadata": {
        "id": "WAoXjo4x8U7g"
      },
      "cell_type": "markdown",
      "source": [
        "## 4.0 Deep Learning"
      ]
    },
    {
      "metadata": {
        "id": "nkGGRqjn-MbB",
        "colab": {
          "base_uri": "https://localhost:8080/",
          "height": 193
        },
        "outputId": "bbdbdf63-61fa-420d-f76f-b6b6063d7088"
      },
      "cell_type": "code",
      "source": [
        "#install some libs\n",
        "!pip install torch torchtext"
      ],
      "execution_count": null,
      "outputs": [
        {
          "output_type": "stream",
          "text": [
            "Requirement already satisfied: torch in /usr/local/lib/python3.6/dist-packages (0.4.1)\n",
            "Requirement already satisfied: torchtext in /usr/local/lib/python3.6/dist-packages (0.3.1)\n",
            "Requirement already satisfied: tqdm in /usr/local/lib/python3.6/dist-packages (from torchtext) (4.27.0)\n",
            "Requirement already satisfied: requests in /usr/local/lib/python3.6/dist-packages (from torchtext) (2.18.4)\n",
            "Requirement already satisfied: numpy in /usr/local/lib/python3.6/dist-packages (from torchtext) (1.14.6)\n",
            "Requirement already satisfied: urllib3<1.23,>=1.21.1 in /usr/local/lib/python3.6/dist-packages (from requests->torchtext) (1.22)\n",
            "Requirement already satisfied: certifi>=2017.4.17 in /usr/local/lib/python3.6/dist-packages (from requests->torchtext) (2018.10.15)\n",
            "Requirement already satisfied: idna<2.7,>=2.5 in /usr/local/lib/python3.6/dist-packages (from requests->torchtext) (2.6)\n",
            "Requirement already satisfied: chardet<3.1.0,>=3.0.2 in /usr/local/lib/python3.6/dist-packages (from requests->torchtext) (3.0.4)\n"
          ],
          "name": "stdout"
        }
      ]
    },
    {
      "metadata": {
        "id": "iMVV7rznqwrr"
      },
      "cell_type": "markdown",
      "source": [
        "### 4.1 Word Embeddings\n",
        "\n",
        "Run the cell above, and while it's installing follow along in the slides."
      ]
    },
    {
      "metadata": {
        "id": "hrzcXDhm8U7h"
      },
      "cell_type": "code",
      "source": [
        "import torch, torchtext\n",
        "word2vecin = torchtext.vocab.Vectors('in_pruned_lite.txt', url='http://github.com/ruyimarone/SemanticSearch/raw/master/in.zip', cache = '.')\n",
        "word2vecout = torchtext.vocab.Vectors('out_pruned_lite.txt', url='https://github.com/ruyimarone/SemanticSearch/raw/master/out.zip', cache = '.')"
      ],
      "execution_count": null,
      "outputs": []
    },
    {
      "metadata": {
        "id": "beOdL6yC8U7k"
      },
      "cell_type": "code",
      "source": [
        "def get_doc_vector(tokens, embedding = word2vecout):\n",
        "    q = sum(embedding[t] / embedding[t].norm() for t in tokens) / len(tokens)\n",
        "    return q\n",
        "\n",
        "def desm_model(query, document, embedding = word2vecin):\n",
        "    query_tokens = tokenize(query, vocab=word2vecin.stoi)\n",
        "    doc_tokens = tokenize(document, vocab=word2vecin.stoi)\n",
        "    if len(doc_tokens) == 0:\n",
        "        return -np.inf\n",
        "    doc_vector = get_doc_vector(doc_tokens)\n",
        "    return (sum(cosine(word2vecin[t], doc_vector) for t in query_tokens) / len(query_tokens)).item()"
      ],
      "execution_count": null,
      "outputs": []
    },
    {
      "metadata": {
        "id": "jx2herCk8U7m",
        "colab": {
          "base_uri": "https://localhost:8080/",
          "height": 97
        },
        "outputId": "a4868169-c223-4ea7-9f8a-0d0e7a14bc3c"
      },
      "cell_type": "code",
      "source": [
        "search(desm_model, \"virtual reality\", hack_documents)"
      ],
      "execution_count": null,
      "outputs": [
        {
          "output_type": "display_data",
          "data": {
            "text/html": [
              "<table border=\"1\" class=\"dataframe\">\n",
              "  <tbody>\n",
              "    <tr>\n",
              "      <td>-0.0316041</td>\n",
              "      <td>-0.0772206</td>\n",
              "      <td>-0.0832169</td>\n",
              "    </tr>\n",
              "    <tr>\n",
              "      <td>Tour college campuses using an oculus rift.</td>\n",
              "      <td>Use machine learning on text messages to predi...</td>\n",
              "      <td>Use blockchain to keep track of which roommate...</td>\n",
              "    </tr>\n",
              "  </tbody>\n",
              "</table>"
            ],
            "text/plain": [
              "<IPython.core.display.HTML object>"
            ]
          },
          "metadata": {
            "tags": []
          }
        }
      ]
    },
    {
      "metadata": {
        "id": "t8I30PdZ8U7v",
        "colab": {
          "base_uri": "https://localhost:8080/",
          "height": 97
        },
        "outputId": "0b94f69d-4db5-4ec1-c9c3-0e14620081ef"
      },
      "cell_type": "code",
      "source": [
        "search(desm_model, \"natural language processing\", hack_documents)"
      ],
      "execution_count": null,
      "outputs": [
        {
          "output_type": "display_data",
          "data": {
            "text/html": [
              "<table border=\"1\" class=\"dataframe\">\n",
              "  <tbody>\n",
              "    <tr>\n",
              "      <td>-0.0463596</td>\n",
              "      <td>-0.0649365</td>\n",
              "      <td>-0.0666111</td>\n",
              "    </tr>\n",
              "    <tr>\n",
              "      <td>Use machine learning on text messages to predi...</td>\n",
              "      <td>Tour college campuses using an oculus rift.</td>\n",
              "      <td>Use blockchain to keep track of which roommate...</td>\n",
              "    </tr>\n",
              "  </tbody>\n",
              "</table>"
            ],
            "text/plain": [
              "<IPython.core.display.HTML object>"
            ]
          },
          "metadata": {
            "tags": []
          }
        }
      ]
    },
    {
      "metadata": {
        "id": "XNpBvPat8U7y",
        "colab": {
          "base_uri": "https://localhost:8080/",
          "height": 97
        },
        "outputId": "c8280328-2ef5-49e1-8115-1e3865609787"
      },
      "cell_type": "code",
      "source": [
        "search(desm_model, \"university visits\", hack_documents)"
      ],
      "execution_count": null,
      "outputs": [
        {
          "output_type": "display_data",
          "data": {
            "text/html": [
              "<table border=\"1\" class=\"dataframe\">\n",
              "  <tbody>\n",
              "    <tr>\n",
              "      <td>-0.0693108</td>\n",
              "      <td>-0.0698456</td>\n",
              "      <td>-0.0840284</td>\n",
              "    </tr>\n",
              "    <tr>\n",
              "      <td>Tour college campuses using an oculus rift.</td>\n",
              "      <td>Use blockchain to keep track of which roommate...</td>\n",
              "      <td>Use machine learning on text messages to predi...</td>\n",
              "    </tr>\n",
              "  </tbody>\n",
              "</table>"
            ],
            "text/plain": [
              "<IPython.core.display.HTML object>"
            ]
          },
          "metadata": {
            "tags": []
          }
        }
      ]
    },
    {
      "metadata": {
        "id": "gl74h1Fv8U73"
      },
      "cell_type": "markdown",
      "source": [
        "Some more examples, with a new dataset. These documents don't have any overlap with the words in the original hackgt 4 devpost dataset, so the tfidf and lsa models won't work."
      ]
    },
    {
      "metadata": {
        "id": "fVLuMxh18U73",
        "colab": {
          "base_uri": "https://localhost:8080/",
          "height": 97
        },
        "outputId": "95a15392-3a59-4a55-b2a6-b0e035547f0e"
      },
      "cell_type": "code",
      "source": [
        "food_documents = [\n",
        "    \"A fruit stand selling fresh produce from local farms.\",\n",
        "    \"Sushi prepared by master chefs with fresh caught local fish.\",\n",
        "    \"Burgers and smoked meat, served with fries and your choice of sauces.\"\n",
        "]\n",
        "\n",
        "search(desm_model, \"tuna\", food_documents)"
      ],
      "execution_count": null,
      "outputs": [
        {
          "output_type": "display_data",
          "data": {
            "text/html": [
              "<table border=\"1\" class=\"dataframe\">\n",
              "  <tbody>\n",
              "    <tr>\n",
              "      <td>-0.00265415</td>\n",
              "      <td>-0.00828872</td>\n",
              "      <td>-0.066288</td>\n",
              "    </tr>\n",
              "    <tr>\n",
              "      <td>Sushi prepared by master chefs with fresh caug...</td>\n",
              "      <td>Burgers and smoked meat, served with fries and...</td>\n",
              "      <td>A fruit stand selling fresh produce from local...</td>\n",
              "    </tr>\n",
              "  </tbody>\n",
              "</table>"
            ],
            "text/plain": [
              "<IPython.core.display.HTML object>"
            ]
          },
          "metadata": {
            "tags": []
          }
        }
      ]
    },
    {
      "metadata": {
        "id": "RvI56ztt8U78",
        "colab": {
          "base_uri": "https://localhost:8080/",
          "height": 97
        },
        "outputId": "603758e7-9a11-441d-a8aa-baea8fa0139e"
      },
      "cell_type": "code",
      "source": [
        "search(desm_model, \"apple\", food_documents)"
      ],
      "execution_count": null,
      "outputs": [
        {
          "output_type": "display_data",
          "data": {
            "text/html": [
              "<table border=\"1\" class=\"dataframe\">\n",
              "  <tbody>\n",
              "    <tr>\n",
              "      <td>-0.00483977</td>\n",
              "      <td>-0.0694509</td>\n",
              "      <td>-0.0836139</td>\n",
              "    </tr>\n",
              "    <tr>\n",
              "      <td>A fruit stand selling fresh produce from local...</td>\n",
              "      <td>Burgers and smoked meat, served with fries and...</td>\n",
              "      <td>Sushi prepared by master chefs with fresh caug...</td>\n",
              "    </tr>\n",
              "  </tbody>\n",
              "</table>"
            ],
            "text/plain": [
              "<IPython.core.display.HTML object>"
            ]
          },
          "metadata": {
            "tags": []
          }
        }
      ]
    },
    {
      "metadata": {
        "id": "fQGvTV4s8U7_",
        "colab": {
          "base_uri": "https://localhost:8080/",
          "height": 97
        },
        "outputId": "9b678b43-9980-4798-b266-83853cd52383"
      },
      "cell_type": "code",
      "source": [
        "search(desm_model, \"potato\", food_documents)"
      ],
      "execution_count": null,
      "outputs": [
        {
          "output_type": "display_data",
          "data": {
            "text/html": [
              "<table border=\"1\" class=\"dataframe\">\n",
              "  <tbody>\n",
              "    <tr>\n",
              "      <td>0.00577377</td>\n",
              "      <td>-0.0579383</td>\n",
              "      <td>-0.0604026</td>\n",
              "    </tr>\n",
              "    <tr>\n",
              "      <td>Burgers and smoked meat, served with fries and...</td>\n",
              "      <td>Sushi prepared by master chefs with fresh caug...</td>\n",
              "      <td>A fruit stand selling fresh produce from local...</td>\n",
              "    </tr>\n",
              "  </tbody>\n",
              "</table>"
            ],
            "text/plain": [
              "<IPython.core.display.HTML object>"
            ]
          },
          "metadata": {
            "tags": []
          }
        }
      ]
    },
    {
      "metadata": {
        "id": "Ka50l6PU8U8F"
      },
      "cell_type": "markdown",
      "source": [
        "And finally, searching over the full devpost submissions"
      ]
    },
    {
      "metadata": {
        "scrolled": false,
        "id": "ugPL5zae8U8G",
        "colab": {
          "base_uri": "https://localhost:8080/",
          "height": 253
        },
        "outputId": "41567734-9b49-4c56-bb7d-3d757af77a9b"
      },
      "cell_type": "code",
      "source": [
        "search(desm_model, \"natural language processing\", df.description.values, df.submission.values)"
      ],
      "execution_count": null,
      "outputs": [
        {
          "output_type": "display_data",
          "data": {
            "text/html": [
              "<table border=\"1\" class=\"dataframe\">\n",
              "  <tbody>\n",
              "    <tr>\n",
              "      <td>-0.0462281</td>\n",
              "      <td>-0.0487907</td>\n",
              "      <td>-0.0490393</td>\n",
              "      <td>-0.050771</td>\n",
              "      <td>-0.0509925</td>\n",
              "      <td>-0.0516937</td>\n",
              "      <td>-0.0519439</td>\n",
              "      <td>-0.0522039</td>\n",
              "      <td>-0.0523426</td>\n",
              "      <td>-0.0527505</td>\n",
              "    </tr>\n",
              "    <tr>\n",
              "      <td>Voice powered personal assistant software is p...</td>\n",
              "      <td>Inspiration\\n\\nEasy to use. Free. \\n\\nWhat it ...</td>\n",
              "      <td>Inspiration\\n\\nFinra's copious amounts of data...</td>\n",
              "      <td>Inspiration\\n\\nA lot of schools and colleges a...</td>\n",
              "      <td>Inspiration\\n\\nCurrent recommendation systems ...</td>\n",
              "      <td>Inspiration\\n\\nWe are students who are extreme...</td>\n",
              "      <td>Inspiration\\n\\nAs of recent years, noise pollu...</td>\n",
              "      <td>Inspiration\\n\\nGRE Test Prep\\n\\nWhat it does\\n...</td>\n",
              "      <td>Inspiration\\n\\nLove for integrating software a...</td>\n",
              "      <td>Inspiration\\n\\nProblems involving fraud in fin...</td>\n",
              "    </tr>\n",
              "    <tr>\n",
              "      <td>Cortana Skill Learner</td>\n",
              "      <td>InvestFolio</td>\n",
              "      <td>Data Mines</td>\n",
              "      <td>Automated Note Generator</td>\n",
              "      <td>HoleInMyWallet</td>\n",
              "      <td>Gridy</td>\n",
              "      <td>Synesthesia</td>\n",
              "      <td>Book Match: Vocabing</td>\n",
              "      <td>KinectEd Living</td>\n",
              "      <td>Penny Stock Fraud Detection</td>\n",
              "    </tr>\n",
              "  </tbody>\n",
              "</table>"
            ],
            "text/plain": [
              "<IPython.core.display.HTML object>"
            ]
          },
          "metadata": {
            "tags": []
          }
        }
      ]
    },
    {
      "metadata": {
        "id": "M5He78guNQIF"
      },
      "cell_type": "code",
      "source": [],
      "execution_count": null,
      "outputs": []
    }
  ]
}